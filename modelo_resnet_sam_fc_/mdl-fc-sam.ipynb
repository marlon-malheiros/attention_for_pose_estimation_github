{
 "cells": [
  {
   "cell_type": "code",
   "execution_count": 1,
   "id": "534a943d",
   "metadata": {
    "execution": {
     "iopub.execute_input": "2024-12-14T03:57:37.920258Z",
     "iopub.status.busy": "2024-12-14T03:57:37.919894Z",
     "iopub.status.idle": "2024-12-14T03:57:47.776625Z",
     "shell.execute_reply": "2024-12-14T03:57:47.775527Z"
    },
    "papermill": {
     "duration": 9.865023,
     "end_time": "2024-12-14T03:57:47.778875",
     "exception": false,
     "start_time": "2024-12-14T03:57:37.913852",
     "status": "completed"
    },
    "tags": []
   },
   "outputs": [
    {
     "name": "stdout",
     "output_type": "stream",
     "text": [
      "Collecting pycocotools\r\n",
      "  Downloading pycocotools-2.0.8-cp310-cp310-manylinux_2_17_x86_64.manylinux2014_x86_64.whl.metadata (1.1 kB)\r\n",
      "Requirement already satisfied: matplotlib>=2.1.0 in /opt/conda/lib/python3.10/site-packages (from pycocotools) (3.7.5)\r\n",
      "Requirement already satisfied: numpy in /opt/conda/lib/python3.10/site-packages (from pycocotools) (1.26.4)\r\n",
      "Requirement already satisfied: contourpy>=1.0.1 in /opt/conda/lib/python3.10/site-packages (from matplotlib>=2.1.0->pycocotools) (1.2.1)\r\n",
      "Requirement already satisfied: cycler>=0.10 in /opt/conda/lib/python3.10/site-packages (from matplotlib>=2.1.0->pycocotools) (0.12.1)\r\n",
      "Requirement already satisfied: fonttools>=4.22.0 in /opt/conda/lib/python3.10/site-packages (from matplotlib>=2.1.0->pycocotools) (4.53.0)\r\n",
      "Requirement already satisfied: kiwisolver>=1.0.1 in /opt/conda/lib/python3.10/site-packages (from matplotlib>=2.1.0->pycocotools) (1.4.5)\r\n",
      "Requirement already satisfied: packaging>=20.0 in /opt/conda/lib/python3.10/site-packages (from matplotlib>=2.1.0->pycocotools) (21.3)\r\n",
      "Requirement already satisfied: pillow>=6.2.0 in /opt/conda/lib/python3.10/site-packages (from matplotlib>=2.1.0->pycocotools) (10.3.0)\r\n",
      "Requirement already satisfied: pyparsing>=2.3.1 in /opt/conda/lib/python3.10/site-packages (from matplotlib>=2.1.0->pycocotools) (3.1.2)\r\n",
      "Requirement already satisfied: python-dateutil>=2.7 in /opt/conda/lib/python3.10/site-packages (from matplotlib>=2.1.0->pycocotools) (2.9.0.post0)\r\n",
      "Requirement already satisfied: six>=1.5 in /opt/conda/lib/python3.10/site-packages (from python-dateutil>=2.7->matplotlib>=2.1.0->pycocotools) (1.16.0)\r\n",
      "Downloading pycocotools-2.0.8-cp310-cp310-manylinux_2_17_x86_64.manylinux2014_x86_64.whl (427 kB)\r\n",
      "\u001b[2K   \u001b[90m━━━━━━━━━━━━━━━━━━━━━━━━━━━━━━━━━━━━━━━━\u001b[0m \u001b[32m427.8/427.8 kB\u001b[0m \u001b[31m11.1 MB/s\u001b[0m eta \u001b[36m0:00:00\u001b[0m\r\n",
      "\u001b[?25hInstalling collected packages: pycocotools\r\n",
      "Successfully installed pycocotools-2.0.8\r\n"
     ]
    }
   ],
   "source": [
    "# Se for rodar em alguma cloud\n",
    "# !pip install pycocotools"
   ]
  },
  {
   "cell_type": "markdown",
   "id": "3d26a3c3",
   "metadata": {
    "papermill": {
     "duration": 0.004113,
     "end_time": "2024-12-14T03:57:47.787647",
     "exception": false,
     "start_time": "2024-12-14T03:57:47.783534",
     "status": "completed"
    },
    "tags": []
   },
   "source": [
    "# Bibliotecas"
   ]
  },
  {
   "cell_type": "code",
   "execution_count": 2,
   "id": "52edf334",
   "metadata": {
    "_cell_guid": "b1076dfc-b9ad-4769-8c92-a6c4dae69d19",
    "_uuid": "8f2839f25d086af736a60e9eeb907d3b93b6e0e5",
    "execution": {
     "iopub.execute_input": "2024-12-14T03:57:47.798638Z",
     "iopub.status.busy": "2024-12-14T03:57:47.798310Z",
     "iopub.status.idle": "2024-12-14T03:57:53.709646Z",
     "shell.execute_reply": "2024-12-14T03:57:53.708851Z"
    },
    "papermill": {
     "duration": 5.919924,
     "end_time": "2024-12-14T03:57:53.711726",
     "exception": false,
     "start_time": "2024-12-14T03:57:47.791802",
     "status": "completed"
    },
    "tags": []
   },
   "outputs": [],
   "source": [
    "# Biblioteca padrão\n",
    "import os\n",
    "import sys\n",
    "import time\n",
    "import json\n",
    "from importlib import reload  # (Descomente se necessário)\n",
    "import random\n",
    "\n",
    "# Bibliotecas de terceiros\n",
    "import numpy as np\n",
    "import pandas as pd\n",
    "import matplotlib.pyplot as plt\n",
    "import matplotlib.patches as patches\n",
    "from tqdm import tqdm\n",
    "from PIL import Image, ImageOps, ImageDraw\n",
    "from scipy.optimize import curve_fit\n",
    "\n",
    "# PyTorch e torchvision\n",
    "import torch\n",
    "import torch.nn as nn\n",
    "from torch.utils.data import Dataset, DataLoader, random_split\n",
    "from torchinfo import summary\n",
    "from torchvision import transforms, models\n",
    "from torchvision.models.detection import (\n",
    "    fasterrcnn_resnet50_fpn,\n",
    "    FasterRCNN_ResNet50_FPN_Weights,\n",
    ")\n",
    "from torch.optim import Adam\n",
    "from torch.optim.lr_scheduler import ReduceLROnPlateau\n",
    "from torch.optim.lr_scheduler import CosineAnnealingLR\n",
    "\n",
    "from torchvision.transforms import ToTensor\n",
    "from torchvision.transforms import functional as TF\n",
    "\n",
    "# pycocotools\n",
    "from pycocotools.coco import COCO\n",
    "\n",
    "# Get the parent directory of the current notebook file\n",
    "from pathlib import Path\n",
    "current_notebook_path = Path().resolve()  # Resolve the current working directory\n",
    "parent_folder = current_notebook_path.parent\n",
    "\n",
    "# Append the parent folder to sys.path\n",
    "sys.path.append(str(parent_folder))\n",
    "import minhas_funcoes\n",
    "\n",
    "# Kaggle\n",
    "# (Descomente se necessário)\n",
    "# sys.path.append(r'/kaggle/input/custom_functions/pytorch/default/2')\n",
    "# import minhas_funcoes"
   ]
  },
  {
   "cell_type": "markdown",
   "id": "0395afaa",
   "metadata": {
    "papermill": {
     "duration": 0.003931,
     "end_time": "2024-12-14T03:57:53.719998",
     "exception": false,
     "start_time": "2024-12-14T03:57:53.716067",
     "status": "completed"
    },
    "tags": []
   },
   "source": [
    "# Descrição\n",
    "Esse é o modelo mais simples de todos. Usando só uma camada totalmente conectada, que recebe como input as features extraídas pela ResNet, lembrando que o detector não foi treinado aqui."
   ]
  },
  {
   "cell_type": "markdown",
   "id": "d6f6a562",
   "metadata": {
    "papermill": {
     "duration": 0.003781,
     "end_time": "2024-12-14T03:57:53.728000",
     "exception": false,
     "start_time": "2024-12-14T03:57:53.724219",
     "status": "completed"
    },
    "tags": []
   },
   "source": [
    "# 1 - Carregar resultado das detecções"
   ]
  },
  {
   "cell_type": "code",
   "execution_count": 3,
   "id": "a885f715",
   "metadata": {
    "execution": {
     "iopub.execute_input": "2024-12-14T03:57:53.737647Z",
     "iopub.status.busy": "2024-12-14T03:57:53.737072Z",
     "iopub.status.idle": "2024-12-14T03:57:53.785441Z",
     "shell.execute_reply": "2024-12-14T03:57:53.784681Z"
    },
    "papermill": {
     "duration": 0.055566,
     "end_time": "2024-12-14T03:57:53.787492",
     "exception": false,
     "start_time": "2024-12-14T03:57:53.731926",
     "status": "completed"
    },
    "tags": []
   },
   "outputs": [],
   "source": [
    "# Kaggle\n",
    "# path_deteccoes = r'/kaggle/input/deteccoes-finais/deteccoes_finais.json'\n",
    "# Local\n",
    "path_deteccoes = r'..\\detector\\deteccoes_finais.json'\n",
    "\n",
    "with open(path_deteccoes, \"r\") as f:\n",
    "    detecoes_transformadas_com_ids = json.load(f)"
   ]
  },
  {
   "cell_type": "markdown",
   "id": "677549f3",
   "metadata": {
    "papermill": {
     "duration": 0.003754,
     "end_time": "2024-12-14T03:57:53.795504",
     "exception": false,
     "start_time": "2024-12-14T03:57:53.791750",
     "status": "completed"
    },
    "tags": []
   },
   "source": [
    "# 2 - Filtrar detecções válidas\n",
    "Estou removendo as amostras onde algum ponto ficou de fora da bounding box."
   ]
  },
  {
   "cell_type": "code",
   "execution_count": 4,
   "id": "d2a8e015",
   "metadata": {
    "execution": {
     "iopub.execute_input": "2024-12-14T03:57:53.804917Z",
     "iopub.status.busy": "2024-12-14T03:57:53.804178Z",
     "iopub.status.idle": "2024-12-14T03:58:06.082110Z",
     "shell.execute_reply": "2024-12-14T03:58:06.081069Z"
    },
    "papermill": {
     "duration": 12.284587,
     "end_time": "2024-12-14T03:58:06.083940",
     "exception": false,
     "start_time": "2024-12-14T03:57:53.799353",
     "status": "completed"
    },
    "tags": []
   },
   "outputs": [
    {
     "name": "stdout",
     "output_type": "stream",
     "text": [
      "loading annotations into memory...\n",
      "Done (t=10.91s)\n",
      "creating index...\n",
      "index created!\n",
      "Valid/Invalid samples: 15562/106\n",
      "15562\n"
     ]
    }
   ],
   "source": [
    "# Teste local com subset pequeno\n",
    "# ann_file = r'c:\\Users\\Marlon\\Downloads\\annotations\\annotations\\person_keypoints_val2017.json'\n",
    "# path_imgs = r'C:\\Users\\Marlon\\Downloads\\COCO_Dataset\\val2017'\n",
    "\n",
    "# Kaggle\n",
    "ann_file = '/kaggle/input/coco-2017-dataset/coco2017/annotations/person_keypoints_train2017.json'\n",
    "path_imgs = '/kaggle/input/coco-2017-dataset/coco2017/train2017'\n",
    "\n",
    "# Treinamento local\n",
    "# ann_file = r\"c:\\Users\\Marlon\\Downloads\\annotations\\annotations\\person_keypoints_train2017.json\"\n",
    "# path_imgs = r\"C:\\Users\\Marlon\\Downloads\\train_images\\train2017\"\n",
    "\n",
    "annotations_file = ann_file\n",
    "\n",
    "img_ids_bboxes = detecoes_transformadas_com_ids\n",
    "valid_samples, invalid_samples = minhas_funcoes.filter_images_by_keypoints(img_ids_bboxes, annotations_file)\n",
    "print(f\"Valid/Invalid samples: {len(valid_samples)}/{len(invalid_samples)}\")\n",
    "print(len(valid_samples))"
   ]
  },
  {
   "cell_type": "markdown",
   "id": "ddbfcd5c",
   "metadata": {
    "papermill": {
     "duration": 0.004047,
     "end_time": "2024-12-14T03:58:06.092496",
     "exception": false,
     "start_time": "2024-12-14T03:58:06.088449",
     "status": "completed"
    },
    "tags": []
   },
   "source": [
    "# 3 - Classe\n",
    "Classe usada para treinamento."
   ]
  },
  {
   "cell_type": "code",
   "execution_count": 5,
   "id": "3f604256",
   "metadata": {
    "execution": {
     "iopub.execute_input": "2024-12-14T03:58:06.102575Z",
     "iopub.status.busy": "2024-12-14T03:58:06.101830Z",
     "iopub.status.idle": "2024-12-14T03:58:06.117819Z",
     "shell.execute_reply": "2024-12-14T03:58:06.116624Z"
    },
    "papermill": {
     "duration": 0.023079,
     "end_time": "2024-12-14T03:58:06.119654",
     "exception": false,
     "start_time": "2024-12-14T03:58:06.096575",
     "status": "completed"
    },
    "tags": []
   },
   "outputs": [],
   "source": [
    "class COCOPoseDataset(torch.utils.data.Dataset):\n",
    "    def __init__(self, image_dir, annotations_file, valid_samples, target_size=(256, 256), heatmap_size=(64, 64), transform=None):\n",
    "        \"\"\"\n",
    "        Custom COCO pose dataset for keypoint heatmap generation.\n",
    "        \n",
    "        Args:\n",
    "            image_dir (str): Directory containing the images.\n",
    "            annotations_file (str): Path to the COCO annotations JSON file.\n",
    "            valid_samples (list): List of tuples (image_id, bbox) for images with valid bboxes.\n",
    "            target_size (tuple): Desired image size after resizing and padding (h, w).\n",
    "            heatmap_size (tuple): Desired heatmap size for each keypoint (h, w).\n",
    "        \"\"\"\n",
    "        self.image_dir = image_dir\n",
    "        self.coco = COCO(annotations_file)\n",
    "        self.valid_samples = valid_samples\n",
    "        self.target_size = target_size  # (h, w)\n",
    "        self.heatmap_size = heatmap_size  # (h, w)\n",
    "        self.keypoint_names = [\n",
    "            \"Nose\", \"Left Eye\", \"Right Eye\", \"Left Ear\", \"Right Ear\", \"Left Shoulder\",\n",
    "            \"Right Shoulder\", \"Left Elbow\", \"Right Elbow\", \"Left Wrist\", \"Right Wrist\",\n",
    "            \"Left Hip\", \"Right Hip\", \"Left Knee\", \"Right Knee\", \"Left Ankle\", \"Right Ankle\"\n",
    "        ]\n",
    "        # Change here to load the transforms\n",
    "        self.transform = transform\n",
    "    \n",
    "    def __len__(self):\n",
    "        return len(self.valid_samples)\n",
    "    \n",
    "    def create_gaussian_heatmap(self, height, width, center_x, center_y, sigma=2):\n",
    "        \"\"\"Generates a 2D Gaussian heatmap centered at (center_x, center_y).\"\"\"\n",
    "        x_grid, y_grid = np.meshgrid(np.arange(width), np.arange(height))\n",
    "        d2 = (x_grid - center_x) ** 2 + (y_grid - center_y) ** 2\n",
    "        gaussian = np.exp(-d2 / (2 * sigma ** 2))\n",
    "        return gaussian\n",
    "\n",
    "    def __getitem__(self, idx):\n",
    "        # 1. Get the bounding box and image_id from valid_samples\n",
    "        image_id, bbox = self.valid_samples[idx]\n",
    "\n",
    "        # 2. Load image and retrieve annotation\n",
    "        image_info = self.coco.loadImgs(image_id)[0]\n",
    "        image_name = image_info['file_name']\n",
    "        image_path = os.path.join(self.image_dir, image_name)\n",
    "        image = Image.open(image_path).convert(\"RGB\")\n",
    "        image_width, image_height = image.size  # (w, h)\n",
    "\n",
    "        # Adjust the bounding box if it exceeds the image boundaries\n",
    "        x_min, y_min, width, height = bbox\n",
    "        x_max = min(image_width, x_min + width)\n",
    "        y_max = min(image_height, y_min + height)\n",
    "        x_min, y_min = max(0, x_min), max(0, y_min)\n",
    "        width, height = x_max - x_min, y_max - y_min\n",
    "\n",
    "        # Crop the image using the adjusted bounding box\n",
    "        image_cropped = image.crop((x_min, y_min, x_min + width, y_min + height))\n",
    "\n",
    "        # Resize the cropped image to the target size\n",
    "        aspect_ratio = image_cropped.height / image_cropped.width\n",
    "        if aspect_ratio > 1:\n",
    "            new_height = self.target_size[0]\n",
    "            new_width = int(self.target_size[1] / aspect_ratio)\n",
    "        else:\n",
    "            new_width = self.target_size[1]\n",
    "            new_height = int(self.target_size[0] * aspect_ratio)\n",
    "\n",
    "        image_resized = image_cropped.resize((new_width, new_height), Image.LANCZOS)\n",
    "        delta_h, delta_w = self.target_size[0] - new_height, self.target_size[1] - new_width\n",
    "        padding = (delta_w // 2, delta_h // 2, delta_w - delta_w // 2, delta_h - delta_h // 2)\n",
    "        image_padded = ImageOps.expand(image_resized, padding, fill=(0, 0, 0))\n",
    "\n",
    "        # Load and adjust keypoints\n",
    "        ann_ids = self.coco.getAnnIds(imgIds=image_id, catIds=[self.coco.getCatIds(catNms=['person'])[0]], iscrowd=False)\n",
    "        annotations = self.coco.loadAnns(ann_ids)\n",
    "        keypoints = annotations[0]['keypoints']\n",
    "        keypoints = [(keypoints[i], keypoints[i + 1], keypoints[i + 2]) for i in range(0, len(keypoints), 3)]\n",
    "        adjusted_keypoints = [(x - x_min, y - y_min, v) for x, y, v in keypoints]\n",
    "        scale_y, scale_x = new_height / height, new_width / width\n",
    "        scaled_keypoints = [(x * scale_x, y * scale_y, v) for x, y, v in adjusted_keypoints]\n",
    "        adjusted_keypoints_padded = [(x + padding[0], y + padding[1], v) for x, y, v in scaled_keypoints]\n",
    "\n",
    "        # Generate heatmaps for each keypoint\n",
    "        scale_y_hm = self.heatmap_size[0] / self.target_size[0]\n",
    "        scale_x_hm = self.heatmap_size[1] / self.target_size[1]\n",
    "        heatmaps = []\n",
    "        for x, y, v in adjusted_keypoints_padded:\n",
    "            if v == 2:\n",
    "                x_hm, y_hm = int(x * scale_x_hm), int(y * scale_y_hm)\n",
    "                heatmap = self.create_gaussian_heatmap(self.heatmap_size[0], self.heatmap_size[1], x_hm, y_hm, sigma=2)\n",
    "            else:\n",
    "                # Also i think i will change this behaviour\n",
    "                # It can be better to create a heatmap with the peak at (0,0), just like in the dataset right?\n",
    "                heatmap = np.zeros(self.heatmap_size)\n",
    "                \n",
    "            heatmaps.append(torch.tensor(heatmap))\n",
    "\n",
    "        # Convert final image to tensor and return\n",
    "        image_tensor = torch.tensor(np.array(image_padded)).permute(2, 0, 1).float() / 255.0\n",
    "        # heatmaps_tensor = torch.stack(heatmaps)\n",
    "        heatmaps_tensor = torch.stack(heatmaps).float()  # Ensure float dtype for heatmaps\n",
    "\n",
    "        # If you have a transform for image+heatmaps:\n",
    "        if self.transform is not None:\n",
    "            # image_tensor should be a float tensor and heatmaps_tensor a float tensor before transform\n",
    "            # Make sure both are on CPU and float type\n",
    "            # image_tensor = image_tensor.to(torch.float)\n",
    "            # heatmaps_tensor = heatmaps_tensor.to(torch.float)\n",
    "            image_tensor, heatmaps_tensor = self.transform(image_tensor, heatmaps_tensor)\n",
    "\n",
    "        return image_tensor, heatmaps_tensor, adjusted_keypoints_padded\n"
   ]
  },
  {
   "cell_type": "markdown",
   "id": "b6d484dc",
   "metadata": {
    "papermill": {
     "duration": 0.003848,
     "end_time": "2024-12-14T03:58:06.127790",
     "exception": false,
     "start_time": "2024-12-14T03:58:06.123942",
     "status": "completed"
    },
    "tags": []
   },
   "source": [
    "## 3.1 Classe para sincronizar augment"
   ]
  },
  {
   "cell_type": "code",
   "execution_count": 6,
   "id": "22a1c634",
   "metadata": {
    "execution": {
     "iopub.execute_input": "2024-12-14T03:58:06.137462Z",
     "iopub.status.busy": "2024-12-14T03:58:06.136801Z",
     "iopub.status.idle": "2024-12-14T03:58:06.142483Z",
     "shell.execute_reply": "2024-12-14T03:58:06.141726Z"
    },
    "papermill": {
     "duration": 0.012203,
     "end_time": "2024-12-14T03:58:06.143988",
     "exception": false,
     "start_time": "2024-12-14T03:58:06.131785",
     "status": "completed"
    },
    "tags": []
   },
   "outputs": [],
   "source": [
    "class MyPairTransform:\n",
    "    def __init__(self):\n",
    "        pass\n",
    "\n",
    "    def __call__(self, image_tensor, heatmaps_tensor):\n",
    "        # Ensure image_tensor is float in range [0, 1]\n",
    "        assert image_tensor.dtype == torch.float, \"Image tensor must be of dtype torch.float\"\n",
    "        assert image_tensor.max() <= 1.0, \"Image tensor values must be in range [0, 1]\"\n",
    "\n",
    "        # Horizontal flip\n",
    "        if random.random() < 0.5:\n",
    "            image_tensor = TF.hflip(image_tensor)\n",
    "            heatmaps_tensor = torch.flip(heatmaps_tensor, dims=[2])  # Flip along width (W)\n",
    "\n",
    "        # Random rotation\n",
    "        angle = random.uniform(-15, 15)\n",
    "        image_tensor = TF.rotate(image_tensor, angle)  # Rotate image tensor\n",
    "        heatmaps_tensor = TF.rotate(heatmaps_tensor.unsqueeze(1), angle).squeeze(1)  # Rotate heatmaps\n",
    "\n",
    "        # Add more transformations as needed\n",
    "\n",
    "        return image_tensor, heatmaps_tensor"
   ]
  },
  {
   "cell_type": "markdown",
   "id": "0d81602d",
   "metadata": {
    "papermill": {
     "duration": 0.003737,
     "end_time": "2024-12-14T03:58:06.151965",
     "exception": false,
     "start_time": "2024-12-14T03:58:06.148228",
     "status": "completed"
    },
    "tags": []
   },
   "source": [
    "# 4 - Inicializar modelo de estimação"
   ]
  },
  {
   "cell_type": "code",
   "execution_count": 7,
   "id": "bea77a78",
   "metadata": {
    "execution": {
     "iopub.execute_input": "2024-12-14T03:58:06.161496Z",
     "iopub.status.busy": "2024-12-14T03:58:06.161204Z",
     "iopub.status.idle": "2024-12-14T03:58:08.156666Z",
     "shell.execute_reply": "2024-12-14T03:58:08.155779Z"
    },
    "papermill": {
     "duration": 2.002925,
     "end_time": "2024-12-14T03:58:08.158913",
     "exception": false,
     "start_time": "2024-12-14T03:58:06.155988",
     "status": "completed"
    },
    "tags": []
   },
   "outputs": [
    {
     "name": "stderr",
     "output_type": "stream",
     "text": [
      "Downloading: \"https://download.pytorch.org/models/resnet50-0676ba61.pth\" to /root/.cache/torch/hub/checkpoints/resnet50-0676ba61.pth\n",
      "100%|██████████| 97.8M/97.8M [00:00<00:00, 222MB/s]\n"
     ]
    }
   ],
   "source": [
    "# Inputs size\n",
    "size_input = (224, 224)\n",
    "size_heatmap = (56, 56)\n",
    "\n",
    "# Load ResNet50 with pretrained weights\n",
    "weights = models.ResNet50_Weights.IMAGENET1K_V1\n",
    "model = models.resnet50(weights=weights)\n",
    "\n",
    "# Remove the last FC and AvgPool layers from ResNet50 to get the backbone\n",
    "backbone = nn.Sequential(*list(model.children())[:-2])  # Output tensor: 7x7x2048 for 224x224 input\n",
    "\n",
    "# Spatial Attention Module\n",
    "class SpatialAttention(nn.Module):\n",
    "    def __init__(self, kernel_size=7):\n",
    "        super(SpatialAttention, self).__init__()\n",
    "        self.conv = nn.Conv2d(2, 1, kernel_size=kernel_size, padding=kernel_size // 2, bias=False)\n",
    "        self.sigmoid = nn.Sigmoid()\n",
    "\n",
    "    def forward(self, x):\n",
    "        avg_out = torch.mean(x, dim=1, keepdim=True)\n",
    "        max_out, _ = torch.max(x, dim=1, keepdim=True)\n",
    "        combined = torch.cat([avg_out, max_out], dim=1)\n",
    "        spatial_att_map = self.sigmoid(self.conv(combined))\n",
    "        return x * spatial_att_map\n",
    "\n",
    "# Full Pose Estimation Model with Attention and FC Layer\n",
    "class PoseEstimationModelWithFC(nn.Module):\n",
    "    def __init__(self, num_keypoints=17, heatmap_size=(56, 56)): # Baseline size 224x224 -> 56x56\n",
    "        super(PoseEstimationModelWithFC, self).__init__()\n",
    "        self.backbone = backbone\n",
    "        self.spatial_attention = SpatialAttention()\n",
    "        \n",
    "        # Global pooling, to go from 7x7x2048 to 2048\n",
    "        # Necessary because the model was getting too big\n",
    "        self.global_pool = nn.AdaptiveAvgPool2d((1,1))\n",
    "        \n",
    "        # Fully connected layer to produce heatmaps\n",
    "        self.fc = nn.Sequential(\n",
    "            nn.Flatten(),  # Flatten to feed into the Linear layer\n",
    "            nn.Linear(2048, num_keypoints * heatmap_size[0] * heatmap_size[1]),\n",
    "            nn.Unflatten(1, (num_keypoints, heatmap_size[0], heatmap_size[1]))\n",
    "        )\n",
    "\n",
    "    def forward(self, x):\n",
    "        # Backbone\n",
    "        x = self.backbone(x)        \n",
    "\n",
    "        # Apply Spatial Attention\n",
    "        x = self.spatial_attention(x)        \n",
    "        \n",
    "        # Global avg pool\n",
    "        x = self.global_pool(x)\n",
    "\n",
    "        # Fully connected layer for heatmap generation\n",
    "        x = self.fc(x)\n",
    "\n",
    "        return x\n",
    "\n",
    "# Instantiate the model\n",
    "model = PoseEstimationModelWithFC(num_keypoints=17, heatmap_size=size_heatmap)\n",
    "\n",
    "# Move the Model to GPU if available\n",
    "device = torch.device(\"cuda\" if torch.cuda.is_available() else \"cpu\")\n",
    "model.to(device)\n",
    "print(f\"Model moved to {device}\")"
   ]
  },
  {
   "cell_type": "markdown",
   "id": "1f5708df",
   "metadata": {
    "papermill": {
     "duration": 0.004374,
     "end_time": "2024-12-14T03:58:08.578724",
     "exception": false,
     "start_time": "2024-12-14T03:58:08.574350",
     "status": "completed"
    },
    "tags": []
   },
   "source": [
    "# 5 - Setup data augment e data loader"
   ]
  },
  {
   "cell_type": "code",
   "execution_count": 9,
   "id": "642fbb4e",
   "metadata": {
    "execution": {
     "iopub.execute_input": "2024-12-14T03:58:08.588960Z",
     "iopub.status.busy": "2024-12-14T03:58:08.588385Z",
     "iopub.status.idle": "2024-12-14T03:58:17.419175Z",
     "shell.execute_reply": "2024-12-14T03:58:17.418253Z"
    },
    "papermill": {
     "duration": 8.837953,
     "end_time": "2024-12-14T03:58:17.421069",
     "exception": false,
     "start_time": "2024-12-14T03:58:08.583116",
     "status": "completed"
    },
    "tags": []
   },
   "outputs": [
    {
     "name": "stdout",
     "output_type": "stream",
     "text": [
      "loading annotations into memory...\n",
      "Done (t=7.83s)\n",
      "creating index...\n",
      "index created!\n"
     ]
    }
   ],
   "source": [
    "# Define transformations for data augmentation and normalization\n",
    "\n",
    "transform = MyPairTransform()\n",
    "\n",
    "# Update the dataset class to apply transformations\n",
    "dataset = COCOPoseDataset(path_imgs, annotations_file, valid_samples, size_input, size_heatmap, transform=transform)\n",
    "\n",
    "# Split dataset into training and validation\n",
    "val_split = 0.1\n",
    "dataset_size = len(dataset)\n",
    "val_size = int(val_split * dataset_size)\n",
    "train_size = dataset_size - val_size\n",
    "\n",
    "train_dataset, val_dataset = random_split(dataset, [train_size, val_size])\n",
    "\n",
    "# Data loaders\n",
    "batch_size = 120\n",
    "train_loader = DataLoader(train_dataset, batch_size=batch_size, shuffle=True, num_workers=4)\n",
    "val_loader = DataLoader(val_dataset, batch_size=batch_size, shuffle=False, num_workers=4)\n",
    "\n",
    "# batch_size = 14\n",
    "# train_loader = DataLoader(train_dataset, batch_size=batch_size, shuffle=True)\n",
    "# val_loader = DataLoader(val_dataset, batch_size=batch_size, shuffle=False)"
   ]
  },
  {
   "cell_type": "markdown",
   "id": "05e404d1",
   "metadata": {
    "papermill": {
     "duration": 0.004765,
     "end_time": "2024-12-14T03:58:17.430754",
     "exception": false,
     "start_time": "2024-12-14T03:58:17.425989",
     "status": "completed"
    },
    "tags": []
   },
   "source": [
    "# 6 - Loss"
   ]
  },
  {
   "cell_type": "code",
   "execution_count": 10,
   "id": "cb1e6af0",
   "metadata": {
    "execution": {
     "iopub.execute_input": "2024-12-14T03:58:17.442090Z",
     "iopub.status.busy": "2024-12-14T03:58:17.441255Z",
     "iopub.status.idle": "2024-12-14T03:58:17.462317Z",
     "shell.execute_reply": "2024-12-14T03:58:17.461352Z"
    },
    "papermill": {
     "duration": 0.028739,
     "end_time": "2024-12-14T03:58:17.464192",
     "exception": false,
     "start_time": "2024-12-14T03:58:17.435453",
     "status": "completed"
    },
    "tags": []
   },
   "outputs": [],
   "source": [
    "# Assuming `model` is already defined; replace with your model initialization if not\n",
    "criterion = nn.MSELoss()\n",
    "\n",
    "# Optimizer\n",
    "optimizer = Adam(model.parameters(), lr=0.0001)\n",
    "\n",
    "# Learning Rate Scheduler\n",
    "scheduler = CosineAnnealingLR(optimizer, T_max=80, eta_min=1e-6)"
   ]
  },
  {
   "cell_type": "markdown",
   "id": "dce79583",
   "metadata": {
    "papermill": {
     "duration": 0.004695,
     "end_time": "2024-12-14T03:58:17.473924",
     "exception": false,
     "start_time": "2024-12-14T03:58:17.469229",
     "status": "completed"
    },
    "tags": []
   },
   "source": [
    "# 7 - Loop de treinamento"
   ]
  },
  {
   "cell_type": "code",
   "execution_count": 11,
   "id": "6b1bd393",
   "metadata": {
    "execution": {
     "iopub.execute_input": "2024-12-14T03:58:17.485389Z",
     "iopub.status.busy": "2024-12-14T03:58:17.484929Z",
     "iopub.status.idle": "2024-12-14T06:10:42.068128Z",
     "shell.execute_reply": "2024-12-14T06:10:42.066742Z"
    },
    "papermill": {
     "duration": 7944.591339,
     "end_time": "2024-12-14T06:10:42.070088",
     "exception": false,
     "start_time": "2024-12-14T03:58:17.478749",
     "status": "completed"
    },
    "tags": []
   },
   "outputs": [
    {
     "name": "stdout",
     "output_type": "stream",
     "text": [
      "Starting training...\n"
     ]
    },
    {
     "name": "stderr",
     "output_type": "stream",
     "text": [
      "Training Bacthes: 100%|██████████| 141/141 [01:40<00:00,  1.41it/s]"
     ]
    },
    {
     "name": "stdout",
     "output_type": "stream",
     "text": [
      "Epoch 1/200 - Training Loss: 0.00313231\n"
     ]
    },
    {
     "name": "stderr",
     "output_type": "stream",
     "text": [
      "\n"
     ]
    },
    {
     "name": "stdout",
     "output_type": "stream",
     "text": [
      "Epoch 1/200 - Validation Loss: 0.00280310\n",
      "Epoch 1 took 111.47 seconds.\n",
      "Epoch 1, Learning Rate: 0.0001\n",
      "Model improved. Saving the best model.\n"
     ]
    },
    {
     "name": "stderr",
     "output_type": "stream",
     "text": [
      "Training Bacthes: 100%|██████████| 141/141 [01:28<00:00,  1.59it/s]"
     ]
    },
    {
     "name": "stdout",
     "output_type": "stream",
     "text": [
      "Epoch 2/200 - Training Loss: 0.00274027\n"
     ]
    },
    {
     "name": "stderr",
     "output_type": "stream",
     "text": [
      "\n"
     ]
    },
    {
     "name": "stdout",
     "output_type": "stream",
     "text": [
      "Epoch 2/200 - Validation Loss: 0.00265587\n",
      "Epoch 2 took 98.66 seconds.\n",
      "Epoch 2, Learning Rate: 0.0001\n",
      "Model improved. Saving the best model.\n"
     ]
    },
    {
     "name": "stderr",
     "output_type": "stream",
     "text": [
      "Training Bacthes: 100%|██████████| 141/141 [01:28<00:00,  1.60it/s]"
     ]
    },
    {
     "name": "stdout",
     "output_type": "stream",
     "text": [
      "Epoch 3/200 - Training Loss: 0.00262398\n"
     ]
    },
    {
     "name": "stderr",
     "output_type": "stream",
     "text": [
      "\n"
     ]
    },
    {
     "name": "stdout",
     "output_type": "stream",
     "text": [
      "Epoch 3/200 - Validation Loss: 0.00256678\n",
      "Epoch 3 took 97.30 seconds.\n",
      "Epoch 3, Learning Rate: 0.0001\n",
      "Model improved. Saving the best model.\n"
     ]
    },
    {
     "name": "stderr",
     "output_type": "stream",
     "text": [
      "Training Bacthes: 100%|██████████| 141/141 [01:27<00:00,  1.61it/s]"
     ]
    },
    {
     "name": "stdout",
     "output_type": "stream",
     "text": [
      "Epoch 4/200 - Training Loss: 0.00253292\n"
     ]
    },
    {
     "name": "stderr",
     "output_type": "stream",
     "text": [
      "\n"
     ]
    },
    {
     "name": "stdout",
     "output_type": "stream",
     "text": [
      "Epoch 4/200 - Validation Loss: 0.00247889\n",
      "Epoch 4 took 96.66 seconds.\n",
      "Epoch 4, Learning Rate: 0.0001\n",
      "Model improved. Saving the best model.\n"
     ]
    },
    {
     "name": "stderr",
     "output_type": "stream",
     "text": [
      "Training Bacthes: 100%|██████████| 141/141 [01:27<00:00,  1.61it/s]"
     ]
    },
    {
     "name": "stdout",
     "output_type": "stream",
     "text": [
      "Epoch 5/200 - Training Loss: 0.00245884\n"
     ]
    },
    {
     "name": "stderr",
     "output_type": "stream",
     "text": [
      "\n"
     ]
    },
    {
     "name": "stdout",
     "output_type": "stream",
     "text": [
      "Epoch 5/200 - Validation Loss: 0.00241931\n",
      "Epoch 5 took 97.09 seconds.\n",
      "Epoch 5, Learning Rate: 0.0001\n",
      "Model improved. Saving the best model.\n"
     ]
    },
    {
     "name": "stderr",
     "output_type": "stream",
     "text": [
      "Training Bacthes: 100%|██████████| 141/141 [01:28<00:00,  1.60it/s]"
     ]
    },
    {
     "name": "stdout",
     "output_type": "stream",
     "text": [
      "Epoch 6/200 - Training Loss: 0.00239142\n"
     ]
    },
    {
     "name": "stderr",
     "output_type": "stream",
     "text": [
      "\n"
     ]
    },
    {
     "name": "stdout",
     "output_type": "stream",
     "text": [
      "Epoch 6/200 - Validation Loss: 0.00235576\n",
      "Epoch 6 took 97.60 seconds.\n",
      "Epoch 6, Learning Rate: 0.0001\n",
      "Model improved. Saving the best model.\n"
     ]
    },
    {
     "name": "stderr",
     "output_type": "stream",
     "text": [
      "Training Bacthes: 100%|██████████| 141/141 [01:28<00:00,  1.59it/s]"
     ]
    },
    {
     "name": "stdout",
     "output_type": "stream",
     "text": [
      "Epoch 7/200 - Training Loss: 0.00233262\n"
     ]
    },
    {
     "name": "stderr",
     "output_type": "stream",
     "text": [
      "\n"
     ]
    },
    {
     "name": "stdout",
     "output_type": "stream",
     "text": [
      "Epoch 7/200 - Validation Loss: 0.00231151\n",
      "Epoch 7 took 97.72 seconds.\n",
      "Epoch 7, Learning Rate: 0.0001\n",
      "Model improved. Saving the best model.\n"
     ]
    },
    {
     "name": "stderr",
     "output_type": "stream",
     "text": [
      "Training Bacthes: 100%|██████████| 141/141 [01:27<00:00,  1.61it/s]"
     ]
    },
    {
     "name": "stdout",
     "output_type": "stream",
     "text": [
      "Epoch 8/200 - Training Loss: 0.00228242\n"
     ]
    },
    {
     "name": "stderr",
     "output_type": "stream",
     "text": [
      "\n"
     ]
    },
    {
     "name": "stdout",
     "output_type": "stream",
     "text": [
      "Epoch 8/200 - Validation Loss: 0.00226855\n",
      "Epoch 8 took 97.43 seconds.\n",
      "Epoch 8, Learning Rate: 0.0001\n",
      "Model improved. Saving the best model.\n"
     ]
    },
    {
     "name": "stderr",
     "output_type": "stream",
     "text": [
      "Training Bacthes: 100%|██████████| 141/141 [01:28<00:00,  1.60it/s]\n"
     ]
    },
    {
     "name": "stdout",
     "output_type": "stream",
     "text": [
      "Epoch 9/200 - Training Loss: 0.00223873\n",
      "Epoch 9/200 - Validation Loss: 0.00222494\n",
      "Epoch 9 took 97.82 seconds.\n",
      "Epoch 9, Learning Rate: 0.0001\n",
      "Model improved. Saving the best model.\n"
     ]
    },
    {
     "name": "stderr",
     "output_type": "stream",
     "text": [
      "Training Bacthes: 100%|██████████| 141/141 [01:28<00:00,  1.59it/s]"
     ]
    },
    {
     "name": "stdout",
     "output_type": "stream",
     "text": [
      "Epoch 10/200 - Training Loss: 0.00220297\n"
     ]
    },
    {
     "name": "stderr",
     "output_type": "stream",
     "text": [
      "\n"
     ]
    },
    {
     "name": "stdout",
     "output_type": "stream",
     "text": [
      "Epoch 10/200 - Validation Loss: 0.00220032\n",
      "Epoch 10 took 97.98 seconds.\n",
      "Epoch 10, Learning Rate: 0.0001\n",
      "Model improved. Saving the best model.\n"
     ]
    },
    {
     "name": "stderr",
     "output_type": "stream",
     "text": [
      "Training Bacthes: 100%|██████████| 141/141 [01:29<00:00,  1.58it/s]"
     ]
    },
    {
     "name": "stdout",
     "output_type": "stream",
     "text": [
      "Epoch 11/200 - Training Loss: 0.00216791\n"
     ]
    },
    {
     "name": "stderr",
     "output_type": "stream",
     "text": [
      "\n"
     ]
    },
    {
     "name": "stdout",
     "output_type": "stream",
     "text": [
      "Epoch 11/200 - Validation Loss: 0.00216938\n",
      "Epoch 11 took 98.82 seconds.\n",
      "Epoch 11, Learning Rate: 0.0001\n",
      "Model improved. Saving the best model.\n"
     ]
    },
    {
     "name": "stderr",
     "output_type": "stream",
     "text": [
      "Training Bacthes: 100%|██████████| 141/141 [01:28<00:00,  1.59it/s]"
     ]
    },
    {
     "name": "stdout",
     "output_type": "stream",
     "text": [
      "Epoch 12/200 - Training Loss: 0.00213847\n"
     ]
    },
    {
     "name": "stderr",
     "output_type": "stream",
     "text": [
      "\n"
     ]
    },
    {
     "name": "stdout",
     "output_type": "stream",
     "text": [
      "Epoch 12/200 - Validation Loss: 0.00215080\n",
      "Epoch 12 took 98.12 seconds.\n",
      "Epoch 12, Learning Rate: 0.0001\n",
      "Model improved. Saving the best model.\n"
     ]
    },
    {
     "name": "stderr",
     "output_type": "stream",
     "text": [
      "Training Bacthes: 100%|██████████| 141/141 [01:28<00:00,  1.59it/s]"
     ]
    },
    {
     "name": "stdout",
     "output_type": "stream",
     "text": [
      "Epoch 13/200 - Training Loss: 0.00211549\n"
     ]
    },
    {
     "name": "stderr",
     "output_type": "stream",
     "text": [
      "\n"
     ]
    },
    {
     "name": "stdout",
     "output_type": "stream",
     "text": [
      "Epoch 13/200 - Validation Loss: 0.00212864\n",
      "Epoch 13 took 97.95 seconds.\n",
      "Epoch 13, Learning Rate: 0.0001\n",
      "Model improved. Saving the best model.\n"
     ]
    },
    {
     "name": "stderr",
     "output_type": "stream",
     "text": [
      "Training Bacthes: 100%|██████████| 141/141 [01:27<00:00,  1.60it/s]"
     ]
    },
    {
     "name": "stdout",
     "output_type": "stream",
     "text": [
      "Epoch 14/200 - Training Loss: 0.00208399\n"
     ]
    },
    {
     "name": "stderr",
     "output_type": "stream",
     "text": [
      "\n"
     ]
    },
    {
     "name": "stdout",
     "output_type": "stream",
     "text": [
      "Epoch 14/200 - Validation Loss: 0.00210318\n",
      "Epoch 14 took 97.52 seconds.\n",
      "Epoch 14, Learning Rate: 0.0001\n",
      "Model improved. Saving the best model.\n"
     ]
    },
    {
     "name": "stderr",
     "output_type": "stream",
     "text": [
      "Training Bacthes: 100%|██████████| 141/141 [01:27<00:00,  1.61it/s]"
     ]
    },
    {
     "name": "stdout",
     "output_type": "stream",
     "text": [
      "Epoch 15/200 - Training Loss: 0.00205760\n"
     ]
    },
    {
     "name": "stderr",
     "output_type": "stream",
     "text": [
      "\n"
     ]
    },
    {
     "name": "stdout",
     "output_type": "stream",
     "text": [
      "Epoch 15/200 - Validation Loss: 0.00208712\n",
      "Epoch 15 took 96.60 seconds.\n",
      "Epoch 15, Learning Rate: 0.0001\n",
      "Model improved. Saving the best model.\n"
     ]
    },
    {
     "name": "stderr",
     "output_type": "stream",
     "text": [
      "Training Bacthes: 100%|██████████| 141/141 [01:28<00:00,  1.60it/s]"
     ]
    },
    {
     "name": "stdout",
     "output_type": "stream",
     "text": [
      "Epoch 16/200 - Training Loss: 0.00203305\n"
     ]
    },
    {
     "name": "stderr",
     "output_type": "stream",
     "text": [
      "\n"
     ]
    },
    {
     "name": "stdout",
     "output_type": "stream",
     "text": [
      "Epoch 16/200 - Validation Loss: 0.00208627\n",
      "Epoch 16 took 97.57 seconds.\n",
      "Epoch 16, Learning Rate: 0.0001\n",
      "Model improved. Saving the best model.\n"
     ]
    },
    {
     "name": "stderr",
     "output_type": "stream",
     "text": [
      "Training Bacthes: 100%|██████████| 141/141 [01:29<00:00,  1.58it/s]"
     ]
    },
    {
     "name": "stdout",
     "output_type": "stream",
     "text": [
      "Epoch 17/200 - Training Loss: 0.00201597\n"
     ]
    },
    {
     "name": "stderr",
     "output_type": "stream",
     "text": [
      "\n"
     ]
    },
    {
     "name": "stdout",
     "output_type": "stream",
     "text": [
      "Epoch 17/200 - Validation Loss: 0.00205186\n",
      "Epoch 17 took 98.50 seconds.\n",
      "Epoch 17, Learning Rate: 0.0001\n",
      "Model improved. Saving the best model.\n"
     ]
    },
    {
     "name": "stderr",
     "output_type": "stream",
     "text": [
      "Training Bacthes: 100%|██████████| 141/141 [01:28<00:00,  1.59it/s]"
     ]
    },
    {
     "name": "stdout",
     "output_type": "stream",
     "text": [
      "Epoch 18/200 - Training Loss: 0.00199403\n"
     ]
    },
    {
     "name": "stderr",
     "output_type": "stream",
     "text": [
      "\n"
     ]
    },
    {
     "name": "stdout",
     "output_type": "stream",
     "text": [
      "Epoch 18/200 - Validation Loss: 0.00203264\n",
      "Epoch 18 took 97.98 seconds.\n",
      "Epoch 18, Learning Rate: 0.0001\n",
      "Model improved. Saving the best model.\n"
     ]
    },
    {
     "name": "stderr",
     "output_type": "stream",
     "text": [
      "Training Bacthes: 100%|██████████| 141/141 [01:28<00:00,  1.60it/s]"
     ]
    },
    {
     "name": "stdout",
     "output_type": "stream",
     "text": [
      "Epoch 19/200 - Training Loss: 0.00196841\n"
     ]
    },
    {
     "name": "stderr",
     "output_type": "stream",
     "text": [
      "\n"
     ]
    },
    {
     "name": "stdout",
     "output_type": "stream",
     "text": [
      "Epoch 19/200 - Validation Loss: 0.00201832\n",
      "Epoch 19 took 97.30 seconds.\n",
      "Epoch 19, Learning Rate: 0.0001\n",
      "Model improved. Saving the best model.\n"
     ]
    },
    {
     "name": "stderr",
     "output_type": "stream",
     "text": [
      "Training Bacthes: 100%|██████████| 141/141 [01:28<00:00,  1.60it/s]"
     ]
    },
    {
     "name": "stdout",
     "output_type": "stream",
     "text": [
      "Epoch 20/200 - Training Loss: 0.00195009\n"
     ]
    },
    {
     "name": "stderr",
     "output_type": "stream",
     "text": [
      "\n"
     ]
    },
    {
     "name": "stdout",
     "output_type": "stream",
     "text": [
      "Epoch 20/200 - Validation Loss: 0.00200868\n",
      "Epoch 20 took 98.05 seconds.\n",
      "Epoch 20, Learning Rate: 0.0001\n",
      "Model improved. Saving the best model.\n"
     ]
    },
    {
     "name": "stderr",
     "output_type": "stream",
     "text": [
      "Training Bacthes: 100%|██████████| 141/141 [01:28<00:00,  1.59it/s]"
     ]
    },
    {
     "name": "stdout",
     "output_type": "stream",
     "text": [
      "Epoch 21/200 - Training Loss: 0.00193212\n"
     ]
    },
    {
     "name": "stderr",
     "output_type": "stream",
     "text": [
      "\n"
     ]
    },
    {
     "name": "stdout",
     "output_type": "stream",
     "text": [
      "Epoch 21/200 - Validation Loss: 0.00199996\n",
      "Epoch 21 took 97.65 seconds.\n",
      "Epoch 21, Learning Rate: 0.0001\n",
      "Model improved. Saving the best model.\n"
     ]
    },
    {
     "name": "stderr",
     "output_type": "stream",
     "text": [
      "Training Bacthes: 100%|██████████| 141/141 [01:27<00:00,  1.60it/s]"
     ]
    },
    {
     "name": "stdout",
     "output_type": "stream",
     "text": [
      "Epoch 22/200 - Training Loss: 0.00191486\n"
     ]
    },
    {
     "name": "stderr",
     "output_type": "stream",
     "text": [
      "\n"
     ]
    },
    {
     "name": "stdout",
     "output_type": "stream",
     "text": [
      "Epoch 22/200 - Validation Loss: 0.00198483\n",
      "Epoch 22 took 97.17 seconds.\n",
      "Epoch 22, Learning Rate: 0.0001\n",
      "Model improved. Saving the best model.\n"
     ]
    },
    {
     "name": "stderr",
     "output_type": "stream",
     "text": [
      "Training Bacthes: 100%|██████████| 141/141 [01:27<00:00,  1.61it/s]"
     ]
    },
    {
     "name": "stdout",
     "output_type": "stream",
     "text": [
      "Epoch 23/200 - Training Loss: 0.00189622\n"
     ]
    },
    {
     "name": "stderr",
     "output_type": "stream",
     "text": [
      "\n"
     ]
    },
    {
     "name": "stdout",
     "output_type": "stream",
     "text": [
      "Epoch 23/200 - Validation Loss: 0.00196838\n",
      "Epoch 23 took 96.52 seconds.\n",
      "Epoch 23, Learning Rate: 0.0001\n",
      "Model improved. Saving the best model.\n"
     ]
    },
    {
     "name": "stderr",
     "output_type": "stream",
     "text": [
      "Training Bacthes: 100%|██████████| 141/141 [01:27<00:00,  1.62it/s]"
     ]
    },
    {
     "name": "stdout",
     "output_type": "stream",
     "text": [
      "Epoch 24/200 - Training Loss: 0.00187771\n"
     ]
    },
    {
     "name": "stderr",
     "output_type": "stream",
     "text": [
      "\n"
     ]
    },
    {
     "name": "stdout",
     "output_type": "stream",
     "text": [
      "Epoch 24/200 - Validation Loss: 0.00195782\n",
      "Epoch 24 took 96.40 seconds.\n",
      "Epoch 24, Learning Rate: 0.0001\n",
      "Model improved. Saving the best model.\n"
     ]
    },
    {
     "name": "stderr",
     "output_type": "stream",
     "text": [
      "Training Bacthes: 100%|██████████| 141/141 [01:27<00:00,  1.62it/s]"
     ]
    },
    {
     "name": "stdout",
     "output_type": "stream",
     "text": [
      "Epoch 25/200 - Training Loss: 0.00186805\n"
     ]
    },
    {
     "name": "stderr",
     "output_type": "stream",
     "text": [
      "\n"
     ]
    },
    {
     "name": "stdout",
     "output_type": "stream",
     "text": [
      "Epoch 25/200 - Validation Loss: 0.00194557\n",
      "Epoch 25 took 96.37 seconds.\n",
      "Epoch 25, Learning Rate: 0.0001\n",
      "Model improved. Saving the best model.\n"
     ]
    },
    {
     "name": "stderr",
     "output_type": "stream",
     "text": [
      "Training Bacthes: 100%|██████████| 141/141 [01:27<00:00,  1.61it/s]"
     ]
    },
    {
     "name": "stdout",
     "output_type": "stream",
     "text": [
      "Epoch 26/200 - Training Loss: 0.00184654\n"
     ]
    },
    {
     "name": "stderr",
     "output_type": "stream",
     "text": [
      "\n"
     ]
    },
    {
     "name": "stdout",
     "output_type": "stream",
     "text": [
      "Epoch 26/200 - Validation Loss: 0.00193833\n",
      "Epoch 26 took 96.92 seconds.\n",
      "Epoch 26, Learning Rate: 0.0001\n",
      "Model improved. Saving the best model.\n"
     ]
    },
    {
     "name": "stderr",
     "output_type": "stream",
     "text": [
      "Training Bacthes: 100%|██████████| 141/141 [01:26<00:00,  1.62it/s]"
     ]
    },
    {
     "name": "stdout",
     "output_type": "stream",
     "text": [
      "Epoch 27/200 - Training Loss: 0.00182681\n"
     ]
    },
    {
     "name": "stderr",
     "output_type": "stream",
     "text": [
      "\n"
     ]
    },
    {
     "name": "stdout",
     "output_type": "stream",
     "text": [
      "Epoch 27/200 - Validation Loss: 0.00192979\n",
      "Epoch 27 took 96.55 seconds.\n",
      "Epoch 27, Learning Rate: 0.0001\n",
      "Model improved. Saving the best model.\n"
     ]
    },
    {
     "name": "stderr",
     "output_type": "stream",
     "text": [
      "Training Bacthes: 100%|██████████| 141/141 [01:26<00:00,  1.63it/s]"
     ]
    },
    {
     "name": "stdout",
     "output_type": "stream",
     "text": [
      "Epoch 28/200 - Training Loss: 0.00182148\n"
     ]
    },
    {
     "name": "stderr",
     "output_type": "stream",
     "text": [
      "\n"
     ]
    },
    {
     "name": "stdout",
     "output_type": "stream",
     "text": [
      "Epoch 28/200 - Validation Loss: 0.00192141\n",
      "Epoch 28 took 96.20 seconds.\n",
      "Epoch 28, Learning Rate: 0.0001\n",
      "Model improved. Saving the best model.\n"
     ]
    },
    {
     "name": "stderr",
     "output_type": "stream",
     "text": [
      "Training Bacthes: 100%|██████████| 141/141 [01:26<00:00,  1.62it/s]"
     ]
    },
    {
     "name": "stdout",
     "output_type": "stream",
     "text": [
      "Epoch 29/200 - Training Loss: 0.00179827\n"
     ]
    },
    {
     "name": "stderr",
     "output_type": "stream",
     "text": [
      "\n"
     ]
    },
    {
     "name": "stdout",
     "output_type": "stream",
     "text": [
      "Epoch 29/200 - Validation Loss: 0.00190983\n",
      "Epoch 29 took 96.26 seconds.\n",
      "Epoch 29, Learning Rate: 0.0001\n",
      "Model improved. Saving the best model.\n"
     ]
    },
    {
     "name": "stderr",
     "output_type": "stream",
     "text": [
      "Training Bacthes: 100%|██████████| 141/141 [01:26<00:00,  1.63it/s]"
     ]
    },
    {
     "name": "stdout",
     "output_type": "stream",
     "text": [
      "Epoch 30/200 - Training Loss: 0.00178103\n"
     ]
    },
    {
     "name": "stderr",
     "output_type": "stream",
     "text": [
      "\n"
     ]
    },
    {
     "name": "stdout",
     "output_type": "stream",
     "text": [
      "Epoch 30/200 - Validation Loss: 0.00190829\n",
      "Epoch 30 took 95.61 seconds.\n",
      "Epoch 30, Learning Rate: 0.0001\n",
      "Model improved. Saving the best model.\n"
     ]
    },
    {
     "name": "stderr",
     "output_type": "stream",
     "text": [
      "Training Bacthes: 100%|██████████| 141/141 [01:26<00:00,  1.63it/s]"
     ]
    },
    {
     "name": "stdout",
     "output_type": "stream",
     "text": [
      "Epoch 31/200 - Training Loss: 0.00176888\n"
     ]
    },
    {
     "name": "stderr",
     "output_type": "stream",
     "text": [
      "\n"
     ]
    },
    {
     "name": "stdout",
     "output_type": "stream",
     "text": [
      "Epoch 31/200 - Validation Loss: 0.00189479\n",
      "Epoch 31 took 95.83 seconds.\n",
      "Epoch 31, Learning Rate: 0.0001\n",
      "Model improved. Saving the best model.\n"
     ]
    },
    {
     "name": "stderr",
     "output_type": "stream",
     "text": [
      "Training Bacthes: 100%|██████████| 141/141 [01:26<00:00,  1.63it/s]"
     ]
    },
    {
     "name": "stdout",
     "output_type": "stream",
     "text": [
      "Epoch 32/200 - Training Loss: 0.00175214\n"
     ]
    },
    {
     "name": "stderr",
     "output_type": "stream",
     "text": [
      "\n"
     ]
    },
    {
     "name": "stdout",
     "output_type": "stream",
     "text": [
      "Epoch 32/200 - Validation Loss: 0.00188890\n",
      "Epoch 32 took 95.97 seconds.\n",
      "Epoch 32, Learning Rate: 0.0001\n",
      "Model improved. Saving the best model.\n"
     ]
    },
    {
     "name": "stderr",
     "output_type": "stream",
     "text": [
      "Training Bacthes: 100%|██████████| 141/141 [01:26<00:00,  1.62it/s]"
     ]
    },
    {
     "name": "stdout",
     "output_type": "stream",
     "text": [
      "Epoch 33/200 - Training Loss: 0.00173648\n"
     ]
    },
    {
     "name": "stderr",
     "output_type": "stream",
     "text": [
      "\n"
     ]
    },
    {
     "name": "stdout",
     "output_type": "stream",
     "text": [
      "Epoch 33/200 - Validation Loss: 0.00188043\n",
      "Epoch 33 took 96.17 seconds.\n",
      "Epoch 33, Learning Rate: 0.0001\n",
      "Model improved. Saving the best model.\n"
     ]
    },
    {
     "name": "stderr",
     "output_type": "stream",
     "text": [
      "Training Bacthes: 100%|██████████| 141/141 [01:27<00:00,  1.61it/s]"
     ]
    },
    {
     "name": "stdout",
     "output_type": "stream",
     "text": [
      "Epoch 34/200 - Training Loss: 0.00172462\n"
     ]
    },
    {
     "name": "stderr",
     "output_type": "stream",
     "text": [
      "\n"
     ]
    },
    {
     "name": "stdout",
     "output_type": "stream",
     "text": [
      "Epoch 34/200 - Validation Loss: 0.00187935\n",
      "Epoch 34 took 96.68 seconds.\n",
      "Epoch 34, Learning Rate: 0.0001\n",
      "Model improved. Saving the best model.\n"
     ]
    },
    {
     "name": "stderr",
     "output_type": "stream",
     "text": [
      "Training Bacthes: 100%|██████████| 141/141 [01:27<00:00,  1.62it/s]"
     ]
    },
    {
     "name": "stdout",
     "output_type": "stream",
     "text": [
      "Epoch 35/200 - Training Loss: 0.00171048\n"
     ]
    },
    {
     "name": "stderr",
     "output_type": "stream",
     "text": [
      "\n"
     ]
    },
    {
     "name": "stdout",
     "output_type": "stream",
     "text": [
      "Epoch 35/200 - Validation Loss: 0.00186724\n",
      "Epoch 35 took 96.38 seconds.\n",
      "Epoch 35, Learning Rate: 0.0001\n",
      "Model improved. Saving the best model.\n"
     ]
    },
    {
     "name": "stderr",
     "output_type": "stream",
     "text": [
      "Training Bacthes: 100%|██████████| 141/141 [01:26<00:00,  1.62it/s]"
     ]
    },
    {
     "name": "stdout",
     "output_type": "stream",
     "text": [
      "Epoch 36/200 - Training Loss: 0.00169908\n"
     ]
    },
    {
     "name": "stderr",
     "output_type": "stream",
     "text": [
      "\n"
     ]
    },
    {
     "name": "stdout",
     "output_type": "stream",
     "text": [
      "Epoch 36/200 - Validation Loss: 0.00186781\n",
      "Epoch 36 took 96.88 seconds.\n",
      "Epoch 36, Learning Rate: 0.0001\n",
      "No improvement in validation loss. Patience: 1/10\n"
     ]
    },
    {
     "name": "stderr",
     "output_type": "stream",
     "text": [
      "Training Bacthes: 100%|██████████| 141/141 [01:27<00:00,  1.62it/s]"
     ]
    },
    {
     "name": "stdout",
     "output_type": "stream",
     "text": [
      "Epoch 37/200 - Training Loss: 0.00169447\n"
     ]
    },
    {
     "name": "stderr",
     "output_type": "stream",
     "text": [
      "\n"
     ]
    },
    {
     "name": "stdout",
     "output_type": "stream",
     "text": [
      "Epoch 37/200 - Validation Loss: 0.00184467\n",
      "Epoch 37 took 96.31 seconds.\n",
      "Epoch 37, Learning Rate: 0.0001\n",
      "Model improved. Saving the best model.\n"
     ]
    },
    {
     "name": "stderr",
     "output_type": "stream",
     "text": [
      "Training Bacthes: 100%|██████████| 141/141 [01:25<00:00,  1.65it/s]"
     ]
    },
    {
     "name": "stdout",
     "output_type": "stream",
     "text": [
      "Epoch 38/200 - Training Loss: 0.00168066\n"
     ]
    },
    {
     "name": "stderr",
     "output_type": "stream",
     "text": [
      "\n"
     ]
    },
    {
     "name": "stdout",
     "output_type": "stream",
     "text": [
      "Epoch 38/200 - Validation Loss: 0.00184980\n",
      "Epoch 38 took 94.63 seconds.\n",
      "Epoch 38, Learning Rate: 0.0001\n",
      "No improvement in validation loss. Patience: 1/10\n"
     ]
    },
    {
     "name": "stderr",
     "output_type": "stream",
     "text": [
      "Training Bacthes: 100%|██████████| 141/141 [01:25<00:00,  1.65it/s]"
     ]
    },
    {
     "name": "stdout",
     "output_type": "stream",
     "text": [
      "Epoch 39/200 - Training Loss: 0.00166120\n"
     ]
    },
    {
     "name": "stderr",
     "output_type": "stream",
     "text": [
      "\n"
     ]
    },
    {
     "name": "stdout",
     "output_type": "stream",
     "text": [
      "Epoch 39/200 - Validation Loss: 0.00183764\n",
      "Epoch 39 took 94.52 seconds.\n",
      "Epoch 39, Learning Rate: 0.0001\n",
      "Model improved. Saving the best model.\n"
     ]
    },
    {
     "name": "stderr",
     "output_type": "stream",
     "text": [
      "Training Bacthes: 100%|██████████| 141/141 [01:26<00:00,  1.64it/s]"
     ]
    },
    {
     "name": "stdout",
     "output_type": "stream",
     "text": [
      "Epoch 40/200 - Training Loss: 0.00164888\n"
     ]
    },
    {
     "name": "stderr",
     "output_type": "stream",
     "text": [
      "\n"
     ]
    },
    {
     "name": "stdout",
     "output_type": "stream",
     "text": [
      "Epoch 40/200 - Validation Loss: 0.00182984\n",
      "Epoch 40 took 95.37 seconds.\n",
      "Epoch 40, Learning Rate: 0.0001\n",
      "Model improved. Saving the best model.\n"
     ]
    },
    {
     "name": "stderr",
     "output_type": "stream",
     "text": [
      "Training Bacthes: 100%|██████████| 141/141 [01:25<00:00,  1.64it/s]"
     ]
    },
    {
     "name": "stdout",
     "output_type": "stream",
     "text": [
      "Epoch 41/200 - Training Loss: 0.00163562\n"
     ]
    },
    {
     "name": "stderr",
     "output_type": "stream",
     "text": [
      "\n"
     ]
    },
    {
     "name": "stdout",
     "output_type": "stream",
     "text": [
      "Epoch 41/200 - Validation Loss: 0.00183162\n",
      "Epoch 41 took 95.10 seconds.\n",
      "Epoch 41, Learning Rate: 0.0001\n",
      "No improvement in validation loss. Patience: 1/10\n"
     ]
    },
    {
     "name": "stderr",
     "output_type": "stream",
     "text": [
      "Training Bacthes: 100%|██████████| 141/141 [01:25<00:00,  1.65it/s]"
     ]
    },
    {
     "name": "stdout",
     "output_type": "stream",
     "text": [
      "Epoch 42/200 - Training Loss: 0.00163201\n"
     ]
    },
    {
     "name": "stderr",
     "output_type": "stream",
     "text": [
      "\n"
     ]
    },
    {
     "name": "stdout",
     "output_type": "stream",
     "text": [
      "Epoch 42/200 - Validation Loss: 0.00182817\n",
      "Epoch 42 took 94.92 seconds.\n",
      "Epoch 42, Learning Rate: 0.0001\n",
      "Model improved. Saving the best model.\n"
     ]
    },
    {
     "name": "stderr",
     "output_type": "stream",
     "text": [
      "Training Bacthes: 100%|██████████| 141/141 [01:25<00:00,  1.64it/s]"
     ]
    },
    {
     "name": "stdout",
     "output_type": "stream",
     "text": [
      "Epoch 43/200 - Training Loss: 0.00161846\n"
     ]
    },
    {
     "name": "stderr",
     "output_type": "stream",
     "text": [
      "\n"
     ]
    },
    {
     "name": "stdout",
     "output_type": "stream",
     "text": [
      "Epoch 43/200 - Validation Loss: 0.00181238\n",
      "Epoch 43 took 95.12 seconds.\n",
      "Epoch 43, Learning Rate: 0.0001\n",
      "Model improved. Saving the best model.\n"
     ]
    },
    {
     "name": "stderr",
     "output_type": "stream",
     "text": [
      "Training Bacthes: 100%|██████████| 141/141 [01:25<00:00,  1.64it/s]"
     ]
    },
    {
     "name": "stdout",
     "output_type": "stream",
     "text": [
      "Epoch 44/200 - Training Loss: 0.00160598\n"
     ]
    },
    {
     "name": "stderr",
     "output_type": "stream",
     "text": [
      "\n"
     ]
    },
    {
     "name": "stdout",
     "output_type": "stream",
     "text": [
      "Epoch 44/200 - Validation Loss: 0.00182018\n",
      "Epoch 44 took 94.56 seconds.\n",
      "Epoch 44, Learning Rate: 0.0001\n",
      "No improvement in validation loss. Patience: 1/10\n"
     ]
    },
    {
     "name": "stderr",
     "output_type": "stream",
     "text": [
      "Training Bacthes: 100%|██████████| 141/141 [01:26<00:00,  1.62it/s]"
     ]
    },
    {
     "name": "stdout",
     "output_type": "stream",
     "text": [
      "Epoch 45/200 - Training Loss: 0.00159464\n"
     ]
    },
    {
     "name": "stderr",
     "output_type": "stream",
     "text": [
      "\n"
     ]
    },
    {
     "name": "stdout",
     "output_type": "stream",
     "text": [
      "Epoch 45/200 - Validation Loss: 0.00180265\n",
      "Epoch 45 took 96.12 seconds.\n",
      "Epoch 45, Learning Rate: 0.0001\n",
      "Model improved. Saving the best model.\n"
     ]
    },
    {
     "name": "stderr",
     "output_type": "stream",
     "text": [
      "Training Bacthes: 100%|██████████| 141/141 [01:27<00:00,  1.60it/s]"
     ]
    },
    {
     "name": "stdout",
     "output_type": "stream",
     "text": [
      "Epoch 46/200 - Training Loss: 0.00158092\n"
     ]
    },
    {
     "name": "stderr",
     "output_type": "stream",
     "text": [
      "\n"
     ]
    },
    {
     "name": "stdout",
     "output_type": "stream",
     "text": [
      "Epoch 46/200 - Validation Loss: 0.00180676\n",
      "Epoch 46 took 97.02 seconds.\n",
      "Epoch 46, Learning Rate: 0.0001\n",
      "No improvement in validation loss. Patience: 1/10\n"
     ]
    },
    {
     "name": "stderr",
     "output_type": "stream",
     "text": [
      "Training Bacthes: 100%|██████████| 141/141 [01:27<00:00,  1.61it/s]"
     ]
    },
    {
     "name": "stdout",
     "output_type": "stream",
     "text": [
      "Epoch 47/200 - Training Loss: 0.00157646\n"
     ]
    },
    {
     "name": "stderr",
     "output_type": "stream",
     "text": [
      "\n"
     ]
    },
    {
     "name": "stdout",
     "output_type": "stream",
     "text": [
      "Epoch 47/200 - Validation Loss: 0.00178950\n",
      "Epoch 47 took 96.83 seconds.\n",
      "Epoch 47, Learning Rate: 0.0001\n",
      "Model improved. Saving the best model.\n"
     ]
    },
    {
     "name": "stderr",
     "output_type": "stream",
     "text": [
      "Training Bacthes: 100%|██████████| 141/141 [01:26<00:00,  1.63it/s]"
     ]
    },
    {
     "name": "stdout",
     "output_type": "stream",
     "text": [
      "Epoch 48/200 - Training Loss: 0.00156495\n"
     ]
    },
    {
     "name": "stderr",
     "output_type": "stream",
     "text": [
      "\n"
     ]
    },
    {
     "name": "stdout",
     "output_type": "stream",
     "text": [
      "Epoch 48/200 - Validation Loss: 0.00180178\n",
      "Epoch 48 took 95.54 seconds.\n",
      "Epoch 48, Learning Rate: 0.0001\n",
      "No improvement in validation loss. Patience: 1/10\n"
     ]
    },
    {
     "name": "stderr",
     "output_type": "stream",
     "text": [
      "Training Bacthes: 100%|██████████| 141/141 [01:26<00:00,  1.63it/s]"
     ]
    },
    {
     "name": "stdout",
     "output_type": "stream",
     "text": [
      "Epoch 49/200 - Training Loss: 0.00155535\n"
     ]
    },
    {
     "name": "stderr",
     "output_type": "stream",
     "text": [
      "\n"
     ]
    },
    {
     "name": "stdout",
     "output_type": "stream",
     "text": [
      "Epoch 49/200 - Validation Loss: 0.00178608\n",
      "Epoch 49 took 95.58 seconds.\n",
      "Epoch 49, Learning Rate: 0.0001\n",
      "Model improved. Saving the best model.\n"
     ]
    },
    {
     "name": "stderr",
     "output_type": "stream",
     "text": [
      "Training Bacthes: 100%|██████████| 141/141 [01:26<00:00,  1.63it/s]"
     ]
    },
    {
     "name": "stdout",
     "output_type": "stream",
     "text": [
      "Epoch 50/200 - Training Loss: 0.00154768\n"
     ]
    },
    {
     "name": "stderr",
     "output_type": "stream",
     "text": [
      "\n"
     ]
    },
    {
     "name": "stdout",
     "output_type": "stream",
     "text": [
      "Epoch 50/200 - Validation Loss: 0.00178910\n",
      "Epoch 50 took 95.56 seconds.\n",
      "Epoch 50, Learning Rate: 0.0001\n",
      "No improvement in validation loss. Patience: 1/10\n"
     ]
    },
    {
     "name": "stderr",
     "output_type": "stream",
     "text": [
      "Training Bacthes: 100%|██████████| 141/141 [01:26<00:00,  1.62it/s]"
     ]
    },
    {
     "name": "stdout",
     "output_type": "stream",
     "text": [
      "Epoch 51/200 - Training Loss: 0.00153504\n"
     ]
    },
    {
     "name": "stderr",
     "output_type": "stream",
     "text": [
      "\n"
     ]
    },
    {
     "name": "stdout",
     "output_type": "stream",
     "text": [
      "Epoch 51/200 - Validation Loss: 0.00177588\n",
      "Epoch 51 took 96.07 seconds.\n",
      "Epoch 51, Learning Rate: 0.0001\n",
      "Model improved. Saving the best model.\n"
     ]
    },
    {
     "name": "stderr",
     "output_type": "stream",
     "text": [
      "Training Bacthes: 100%|██████████| 141/141 [01:27<00:00,  1.62it/s]"
     ]
    },
    {
     "name": "stdout",
     "output_type": "stream",
     "text": [
      "Epoch 52/200 - Training Loss: 0.00152289\n"
     ]
    },
    {
     "name": "stderr",
     "output_type": "stream",
     "text": [
      "\n"
     ]
    },
    {
     "name": "stdout",
     "output_type": "stream",
     "text": [
      "Epoch 52/200 - Validation Loss: 0.00177746\n",
      "Epoch 52 took 96.09 seconds.\n",
      "Epoch 52, Learning Rate: 0.0001\n",
      "No improvement in validation loss. Patience: 1/10\n"
     ]
    },
    {
     "name": "stderr",
     "output_type": "stream",
     "text": [
      "Training Bacthes: 100%|██████████| 141/141 [01:26<00:00,  1.63it/s]"
     ]
    },
    {
     "name": "stdout",
     "output_type": "stream",
     "text": [
      "Epoch 53/200 - Training Loss: 0.00151458\n"
     ]
    },
    {
     "name": "stderr",
     "output_type": "stream",
     "text": [
      "\n"
     ]
    },
    {
     "name": "stdout",
     "output_type": "stream",
     "text": [
      "Epoch 53/200 - Validation Loss: 0.00176234\n",
      "Epoch 53 took 95.73 seconds.\n",
      "Epoch 53, Learning Rate: 0.0001\n",
      "Model improved. Saving the best model.\n"
     ]
    },
    {
     "name": "stderr",
     "output_type": "stream",
     "text": [
      "Training Bacthes: 100%|██████████| 141/141 [01:26<00:00,  1.63it/s]"
     ]
    },
    {
     "name": "stdout",
     "output_type": "stream",
     "text": [
      "Epoch 54/200 - Training Loss: 0.00150624\n"
     ]
    },
    {
     "name": "stderr",
     "output_type": "stream",
     "text": [
      "\n"
     ]
    },
    {
     "name": "stdout",
     "output_type": "stream",
     "text": [
      "Epoch 54/200 - Validation Loss: 0.00178136\n",
      "Epoch 54 took 95.62 seconds.\n",
      "Epoch 54, Learning Rate: 0.0001\n",
      "No improvement in validation loss. Patience: 1/10\n"
     ]
    },
    {
     "name": "stderr",
     "output_type": "stream",
     "text": [
      "Training Bacthes: 100%|██████████| 141/141 [01:26<00:00,  1.63it/s]"
     ]
    },
    {
     "name": "stdout",
     "output_type": "stream",
     "text": [
      "Epoch 55/200 - Training Loss: 0.00149701\n"
     ]
    },
    {
     "name": "stderr",
     "output_type": "stream",
     "text": [
      "\n"
     ]
    },
    {
     "name": "stdout",
     "output_type": "stream",
     "text": [
      "Epoch 55/200 - Validation Loss: 0.00176856\n",
      "Epoch 55 took 95.73 seconds.\n",
      "Epoch 55, Learning Rate: 0.0001\n",
      "No improvement in validation loss. Patience: 2/10\n"
     ]
    },
    {
     "name": "stderr",
     "output_type": "stream",
     "text": [
      "Training Bacthes: 100%|██████████| 141/141 [01:26<00:00,  1.62it/s]"
     ]
    },
    {
     "name": "stdout",
     "output_type": "stream",
     "text": [
      "Epoch 56/200 - Training Loss: 0.00148246\n"
     ]
    },
    {
     "name": "stderr",
     "output_type": "stream",
     "text": [
      "\n"
     ]
    },
    {
     "name": "stdout",
     "output_type": "stream",
     "text": [
      "Epoch 56/200 - Validation Loss: 0.00176471\n",
      "Epoch 56 took 96.11 seconds.\n",
      "Epoch 56, Learning Rate: 0.0001\n",
      "No improvement in validation loss. Patience: 3/10\n"
     ]
    },
    {
     "name": "stderr",
     "output_type": "stream",
     "text": [
      "Training Bacthes: 100%|██████████| 141/141 [01:26<00:00,  1.63it/s]"
     ]
    },
    {
     "name": "stdout",
     "output_type": "stream",
     "text": [
      "Epoch 57/200 - Training Loss: 0.00147775\n"
     ]
    },
    {
     "name": "stderr",
     "output_type": "stream",
     "text": [
      "\n"
     ]
    },
    {
     "name": "stdout",
     "output_type": "stream",
     "text": [
      "Epoch 57/200 - Validation Loss: 0.00176466\n",
      "Epoch 57 took 95.66 seconds.\n",
      "Epoch 57, Learning Rate: 0.0001\n",
      "No improvement in validation loss. Patience: 4/10\n"
     ]
    },
    {
     "name": "stderr",
     "output_type": "stream",
     "text": [
      "Training Bacthes: 100%|██████████| 141/141 [01:26<00:00,  1.62it/s]"
     ]
    },
    {
     "name": "stdout",
     "output_type": "stream",
     "text": [
      "Epoch 58/200 - Training Loss: 0.00144769\n"
     ]
    },
    {
     "name": "stderr",
     "output_type": "stream",
     "text": [
      "\n"
     ]
    },
    {
     "name": "stdout",
     "output_type": "stream",
     "text": [
      "Epoch 58/200 - Validation Loss: 0.00173655\n",
      "Epoch 58 took 95.91 seconds.\n",
      "Epoch 58, Learning Rate: 1e-05\n",
      "Model improved. Saving the best model.\n"
     ]
    },
    {
     "name": "stderr",
     "output_type": "stream",
     "text": [
      "Training Bacthes: 100%|██████████| 141/141 [01:27<00:00,  1.62it/s]"
     ]
    },
    {
     "name": "stdout",
     "output_type": "stream",
     "text": [
      "Epoch 59/200 - Training Loss: 0.00143731\n"
     ]
    },
    {
     "name": "stderr",
     "output_type": "stream",
     "text": [
      "\n"
     ]
    },
    {
     "name": "stdout",
     "output_type": "stream",
     "text": [
      "Epoch 59/200 - Validation Loss: 0.00174188\n",
      "Epoch 59 took 95.93 seconds.\n",
      "Epoch 59, Learning Rate: 1e-05\n",
      "No improvement in validation loss. Patience: 1/10\n"
     ]
    },
    {
     "name": "stderr",
     "output_type": "stream",
     "text": [
      "Training Bacthes: 100%|██████████| 141/141 [01:26<00:00,  1.64it/s]"
     ]
    },
    {
     "name": "stdout",
     "output_type": "stream",
     "text": [
      "Epoch 60/200 - Training Loss: 0.00143337\n"
     ]
    },
    {
     "name": "stderr",
     "output_type": "stream",
     "text": [
      "\n"
     ]
    },
    {
     "name": "stdout",
     "output_type": "stream",
     "text": [
      "Epoch 60/200 - Validation Loss: 0.00173049\n",
      "Epoch 60 took 94.96 seconds.\n",
      "Epoch 60, Learning Rate: 1e-05\n",
      "Model improved. Saving the best model.\n"
     ]
    },
    {
     "name": "stderr",
     "output_type": "stream",
     "text": [
      "Training Bacthes: 100%|██████████| 141/141 [01:26<00:00,  1.64it/s]"
     ]
    },
    {
     "name": "stdout",
     "output_type": "stream",
     "text": [
      "Epoch 61/200 - Training Loss: 0.00143095\n"
     ]
    },
    {
     "name": "stderr",
     "output_type": "stream",
     "text": [
      "\n"
     ]
    },
    {
     "name": "stdout",
     "output_type": "stream",
     "text": [
      "Epoch 61/200 - Validation Loss: 0.00172527\n",
      "Epoch 61 took 95.08 seconds.\n",
      "Epoch 61, Learning Rate: 1e-05\n",
      "Model improved. Saving the best model.\n"
     ]
    },
    {
     "name": "stderr",
     "output_type": "stream",
     "text": [
      "Training Bacthes: 100%|██████████| 141/141 [01:26<00:00,  1.64it/s]"
     ]
    },
    {
     "name": "stdout",
     "output_type": "stream",
     "text": [
      "Epoch 62/200 - Training Loss: 0.00142613\n"
     ]
    },
    {
     "name": "stderr",
     "output_type": "stream",
     "text": [
      "\n"
     ]
    },
    {
     "name": "stdout",
     "output_type": "stream",
     "text": [
      "Epoch 62/200 - Validation Loss: 0.00173778\n",
      "Epoch 62 took 94.99 seconds.\n",
      "Epoch 62, Learning Rate: 1e-05\n",
      "No improvement in validation loss. Patience: 1/10\n"
     ]
    },
    {
     "name": "stderr",
     "output_type": "stream",
     "text": [
      "Training Bacthes: 100%|██████████| 141/141 [01:26<00:00,  1.64it/s]"
     ]
    },
    {
     "name": "stdout",
     "output_type": "stream",
     "text": [
      "Epoch 63/200 - Training Loss: 0.00142455\n"
     ]
    },
    {
     "name": "stderr",
     "output_type": "stream",
     "text": [
      "\n"
     ]
    },
    {
     "name": "stdout",
     "output_type": "stream",
     "text": [
      "Epoch 63/200 - Validation Loss: 0.00171833\n",
      "Epoch 63 took 95.15 seconds.\n",
      "Epoch 63, Learning Rate: 1e-05\n",
      "Model improved. Saving the best model.\n"
     ]
    },
    {
     "name": "stderr",
     "output_type": "stream",
     "text": [
      "Training Bacthes: 100%|██████████| 141/141 [01:26<00:00,  1.63it/s]"
     ]
    },
    {
     "name": "stdout",
     "output_type": "stream",
     "text": [
      "Epoch 64/200 - Training Loss: 0.00142216\n"
     ]
    },
    {
     "name": "stderr",
     "output_type": "stream",
     "text": [
      "\n"
     ]
    },
    {
     "name": "stdout",
     "output_type": "stream",
     "text": [
      "Epoch 64/200 - Validation Loss: 0.00171954\n",
      "Epoch 64 took 95.15 seconds.\n",
      "Epoch 64, Learning Rate: 1e-05\n",
      "No improvement in validation loss. Patience: 1/10\n"
     ]
    },
    {
     "name": "stderr",
     "output_type": "stream",
     "text": [
      "Training Bacthes: 100%|██████████| 141/141 [01:26<00:00,  1.64it/s]"
     ]
    },
    {
     "name": "stdout",
     "output_type": "stream",
     "text": [
      "Epoch 65/200 - Training Loss: 0.00142011\n"
     ]
    },
    {
     "name": "stderr",
     "output_type": "stream",
     "text": [
      "\n"
     ]
    },
    {
     "name": "stdout",
     "output_type": "stream",
     "text": [
      "Epoch 65/200 - Validation Loss: 0.00172132\n",
      "Epoch 65 took 94.84 seconds.\n",
      "Epoch 65, Learning Rate: 1e-05\n",
      "No improvement in validation loss. Patience: 2/10\n"
     ]
    },
    {
     "name": "stderr",
     "output_type": "stream",
     "text": [
      "Training Bacthes: 100%|██████████| 141/141 [01:26<00:00,  1.64it/s]"
     ]
    },
    {
     "name": "stdout",
     "output_type": "stream",
     "text": [
      "Epoch 66/200 - Training Loss: 0.00141802\n"
     ]
    },
    {
     "name": "stderr",
     "output_type": "stream",
     "text": [
      "\n"
     ]
    },
    {
     "name": "stdout",
     "output_type": "stream",
     "text": [
      "Epoch 66/200 - Validation Loss: 0.00172683\n",
      "Epoch 66 took 95.09 seconds.\n",
      "Epoch 66, Learning Rate: 1e-05\n",
      "No improvement in validation loss. Patience: 3/10\n"
     ]
    },
    {
     "name": "stderr",
     "output_type": "stream",
     "text": [
      "Training Bacthes: 100%|██████████| 141/141 [01:26<00:00,  1.64it/s]"
     ]
    },
    {
     "name": "stdout",
     "output_type": "stream",
     "text": [
      "Epoch 67/200 - Training Loss: 0.00141720\n"
     ]
    },
    {
     "name": "stderr",
     "output_type": "stream",
     "text": [
      "\n"
     ]
    },
    {
     "name": "stdout",
     "output_type": "stream",
     "text": [
      "Epoch 67/200 - Validation Loss: 0.00171821\n",
      "Epoch 67 took 94.92 seconds.\n",
      "Epoch 67, Learning Rate: 1e-05\n",
      "Model improved. Saving the best model.\n"
     ]
    },
    {
     "name": "stderr",
     "output_type": "stream",
     "text": [
      "Training Bacthes: 100%|██████████| 141/141 [01:26<00:00,  1.64it/s]"
     ]
    },
    {
     "name": "stdout",
     "output_type": "stream",
     "text": [
      "Epoch 68/200 - Training Loss: 0.00141225\n"
     ]
    },
    {
     "name": "stderr",
     "output_type": "stream",
     "text": [
      "\n"
     ]
    },
    {
     "name": "stdout",
     "output_type": "stream",
     "text": [
      "Epoch 68/200 - Validation Loss: 0.00172253\n",
      "Epoch 68 took 95.07 seconds.\n",
      "Epoch 68, Learning Rate: 1.0000000000000002e-06\n",
      "No improvement in validation loss. Patience: 1/10\n"
     ]
    },
    {
     "name": "stderr",
     "output_type": "stream",
     "text": [
      "Training Bacthes: 100%|██████████| 141/141 [01:26<00:00,  1.64it/s]"
     ]
    },
    {
     "name": "stdout",
     "output_type": "stream",
     "text": [
      "Epoch 69/200 - Training Loss: 0.00141231\n"
     ]
    },
    {
     "name": "stderr",
     "output_type": "stream",
     "text": [
      "\n"
     ]
    },
    {
     "name": "stdout",
     "output_type": "stream",
     "text": [
      "Epoch 69/200 - Validation Loss: 0.00172465\n",
      "Epoch 69 took 95.11 seconds.\n",
      "Epoch 69, Learning Rate: 1.0000000000000002e-06\n",
      "No improvement in validation loss. Patience: 2/10\n"
     ]
    },
    {
     "name": "stderr",
     "output_type": "stream",
     "text": [
      "Training Bacthes: 100%|██████████| 141/141 [01:26<00:00,  1.63it/s]"
     ]
    },
    {
     "name": "stdout",
     "output_type": "stream",
     "text": [
      "Epoch 70/200 - Training Loss: 0.00141124\n"
     ]
    },
    {
     "name": "stderr",
     "output_type": "stream",
     "text": [
      "\n"
     ]
    },
    {
     "name": "stdout",
     "output_type": "stream",
     "text": [
      "Epoch 70/200 - Validation Loss: 0.00171527\n",
      "Epoch 70 took 95.22 seconds.\n",
      "Epoch 70, Learning Rate: 1.0000000000000002e-06\n",
      "Model improved. Saving the best model.\n"
     ]
    },
    {
     "name": "stderr",
     "output_type": "stream",
     "text": [
      "Training Bacthes: 100%|██████████| 141/141 [01:26<00:00,  1.63it/s]"
     ]
    },
    {
     "name": "stdout",
     "output_type": "stream",
     "text": [
      "Epoch 71/200 - Training Loss: 0.00141136\n"
     ]
    },
    {
     "name": "stderr",
     "output_type": "stream",
     "text": [
      "\n"
     ]
    },
    {
     "name": "stdout",
     "output_type": "stream",
     "text": [
      "Epoch 71/200 - Validation Loss: 0.00172697\n",
      "Epoch 71 took 95.51 seconds.\n",
      "Epoch 71, Learning Rate: 1.0000000000000002e-06\n",
      "No improvement in validation loss. Patience: 1/10\n"
     ]
    },
    {
     "name": "stderr",
     "output_type": "stream",
     "text": [
      "Training Bacthes: 100%|██████████| 141/141 [01:26<00:00,  1.63it/s]"
     ]
    },
    {
     "name": "stdout",
     "output_type": "stream",
     "text": [
      "Epoch 72/200 - Training Loss: 0.00141039\n"
     ]
    },
    {
     "name": "stderr",
     "output_type": "stream",
     "text": [
      "\n"
     ]
    },
    {
     "name": "stdout",
     "output_type": "stream",
     "text": [
      "Epoch 72/200 - Validation Loss: 0.00172531\n",
      "Epoch 72 took 95.59 seconds.\n",
      "Epoch 72, Learning Rate: 1.0000000000000002e-06\n",
      "No improvement in validation loss. Patience: 2/10\n"
     ]
    },
    {
     "name": "stderr",
     "output_type": "stream",
     "text": [
      "Training Bacthes: 100%|██████████| 141/141 [01:38<00:00,  1.43it/s]"
     ]
    },
    {
     "name": "stdout",
     "output_type": "stream",
     "text": [
      "Epoch 73/200 - Training Loss: 0.00141103\n"
     ]
    },
    {
     "name": "stderr",
     "output_type": "stream",
     "text": [
      "\n"
     ]
    },
    {
     "name": "stdout",
     "output_type": "stream",
     "text": [
      "Epoch 73/200 - Validation Loss: 0.00172285\n",
      "Epoch 73 took 107.75 seconds.\n",
      "Epoch 73, Learning Rate: 1.0000000000000002e-06\n",
      "No improvement in validation loss. Patience: 3/10\n"
     ]
    },
    {
     "name": "stderr",
     "output_type": "stream",
     "text": [
      "Training Bacthes: 100%|██████████| 141/141 [01:26<00:00,  1.63it/s]"
     ]
    },
    {
     "name": "stdout",
     "output_type": "stream",
     "text": [
      "Epoch 74/200 - Training Loss: 0.00141088\n"
     ]
    },
    {
     "name": "stderr",
     "output_type": "stream",
     "text": [
      "\n"
     ]
    },
    {
     "name": "stdout",
     "output_type": "stream",
     "text": [
      "Epoch 74/200 - Validation Loss: 0.00172248\n",
      "Epoch 74 took 95.54 seconds.\n",
      "Epoch 74, Learning Rate: 1.0000000000000002e-06\n",
      "No improvement in validation loss. Patience: 4/10\n"
     ]
    },
    {
     "name": "stderr",
     "output_type": "stream",
     "text": [
      "Training Bacthes: 100%|██████████| 141/141 [01:26<00:00,  1.63it/s]"
     ]
    },
    {
     "name": "stdout",
     "output_type": "stream",
     "text": [
      "Epoch 75/200 - Training Loss: 0.00140988\n"
     ]
    },
    {
     "name": "stderr",
     "output_type": "stream",
     "text": [
      "\n"
     ]
    },
    {
     "name": "stdout",
     "output_type": "stream",
     "text": [
      "Epoch 75/200 - Validation Loss: 0.00172573\n",
      "Epoch 75 took 95.33 seconds.\n",
      "Epoch 75, Learning Rate: 1.0000000000000002e-07\n",
      "No improvement in validation loss. Patience: 5/10\n"
     ]
    },
    {
     "name": "stderr",
     "output_type": "stream",
     "text": [
      "Training Bacthes: 100%|██████████| 141/141 [01:26<00:00,  1.63it/s]"
     ]
    },
    {
     "name": "stdout",
     "output_type": "stream",
     "text": [
      "Epoch 76/200 - Training Loss: 0.00141010\n"
     ]
    },
    {
     "name": "stderr",
     "output_type": "stream",
     "text": [
      "\n"
     ]
    },
    {
     "name": "stdout",
     "output_type": "stream",
     "text": [
      "Epoch 76/200 - Validation Loss: 0.00172358\n",
      "Epoch 76 took 95.31 seconds.\n",
      "Epoch 76, Learning Rate: 1.0000000000000002e-07\n",
      "No improvement in validation loss. Patience: 6/10\n"
     ]
    },
    {
     "name": "stderr",
     "output_type": "stream",
     "text": [
      "Training Bacthes: 100%|██████████| 141/141 [01:26<00:00,  1.63it/s]"
     ]
    },
    {
     "name": "stdout",
     "output_type": "stream",
     "text": [
      "Epoch 77/200 - Training Loss: 0.00141117\n"
     ]
    },
    {
     "name": "stderr",
     "output_type": "stream",
     "text": [
      "\n"
     ]
    },
    {
     "name": "stdout",
     "output_type": "stream",
     "text": [
      "Epoch 77/200 - Validation Loss: 0.00172411\n",
      "Epoch 77 took 95.38 seconds.\n",
      "Epoch 77, Learning Rate: 1.0000000000000002e-07\n",
      "No improvement in validation loss. Patience: 7/10\n"
     ]
    },
    {
     "name": "stderr",
     "output_type": "stream",
     "text": [
      "Training Bacthes: 100%|██████████| 141/141 [01:26<00:00,  1.63it/s]"
     ]
    },
    {
     "name": "stdout",
     "output_type": "stream",
     "text": [
      "Epoch 78/200 - Training Loss: 0.00141018\n"
     ]
    },
    {
     "name": "stderr",
     "output_type": "stream",
     "text": [
      "\n"
     ]
    },
    {
     "name": "stdout",
     "output_type": "stream",
     "text": [
      "Epoch 78/200 - Validation Loss: 0.00171598\n",
      "Epoch 78 took 95.19 seconds.\n",
      "Epoch 78, Learning Rate: 1.0000000000000002e-07\n",
      "No improvement in validation loss. Patience: 8/10\n"
     ]
    },
    {
     "name": "stderr",
     "output_type": "stream",
     "text": [
      "Training Bacthes: 100%|██████████| 141/141 [01:26<00:00,  1.63it/s]"
     ]
    },
    {
     "name": "stdout",
     "output_type": "stream",
     "text": [
      "Epoch 79/200 - Training Loss: 0.00140983\n"
     ]
    },
    {
     "name": "stderr",
     "output_type": "stream",
     "text": [
      "\n"
     ]
    },
    {
     "name": "stdout",
     "output_type": "stream",
     "text": [
      "Epoch 79/200 - Validation Loss: 0.00172733\n",
      "Epoch 79 took 95.44 seconds.\n",
      "Epoch 79, Learning Rate: 1.0000000000000004e-08\n",
      "No improvement in validation loss. Patience: 9/10\n"
     ]
    },
    {
     "name": "stderr",
     "output_type": "stream",
     "text": [
      "Training Bacthes: 100%|██████████| 141/141 [01:26<00:00,  1.63it/s]"
     ]
    },
    {
     "name": "stdout",
     "output_type": "stream",
     "text": [
      "Epoch 80/200 - Training Loss: 0.00140915\n"
     ]
    },
    {
     "name": "stderr",
     "output_type": "stream",
     "text": [
      "\n"
     ]
    },
    {
     "name": "stdout",
     "output_type": "stream",
     "text": [
      "Epoch 80/200 - Validation Loss: 0.00172541\n",
      "Epoch 80 took 95.33 seconds.\n",
      "Epoch 80, Learning Rate: 1.0000000000000004e-08\n",
      "No improvement in validation loss. Patience: 10/10\n",
      "Min number epochs reached, with no improvement in validation loss. Stopping training.\n",
      "End training loop after 80 epochs.\n"
     ]
    }
   ],
   "source": [
    "# Store losses for plotting later\n",
    "train_losses = []\n",
    "val_losses = []\n",
    "\n",
    "# Initialize a list to store learning rates\n",
    "learning_rate_log = []\n",
    "\n",
    "# Training parameters\n",
    "num_epochs = 300\n",
    "patience = 30\n",
    "best_val_loss = float('inf')\n",
    "epochs_without_improvement = 0\n",
    "patience_counter = 0  # Initialize the patience counter\n",
    "\n",
    "# Minimum number of epochs\n",
    "min_epochs = 50\n",
    "max_epochs = 300\n",
    "\n",
    "print(\"Starting training...\")\n",
    "\n",
    "for epoch in range(num_epochs):\n",
    "    epoch_start_time = time.time()  # Track epoch start time\n",
    "    running_loss = 0.0\n",
    "    val_loss = 0.0\n",
    "    model.train()  # Set model to training mode\n",
    "\n",
    "    # Training loop\n",
    "    for inputs, heatmaps, _ in train_loader:\n",
    "        inputs, heatmaps = inputs.float().to(device), heatmaps.float().to(device)\n",
    "\n",
    "        optimizer.zero_grad()\n",
    "        outputs = model(inputs)\n",
    "\n",
    "        # Masking the validation loss for visible points\n",
    "        mask = (heatmaps.sum(dim=(2, 3)) > 0).float().unsqueeze(-1).unsqueeze(-1)  # Shape: [batch_size, num_keypoints, 1, 1]\n",
    "        visible_outputs = outputs * mask  # Apply mask to outputs\n",
    "        visible_heatmaps = heatmaps * mask  # Apply mask to ground truth heatmaps\n",
    "\n",
    "        # Compute masked loss\n",
    "        loss = criterion(visible_outputs, visible_heatmaps)\n",
    "        loss.backward()\n",
    "        optimizer.step()\n",
    "\n",
    "        running_loss += loss.item() * inputs.size(0)\n",
    "    \n",
    "    # After the training loop, calculate the average loss\n",
    "    epoch_train_loss = running_loss / len(train_loader.dataset)\n",
    "    train_losses.append(epoch_train_loss)\n",
    "    print(f\"Epoch {epoch + 1}/{num_epochs} - Training Loss: {epoch_train_loss:.8f}\")\n",
    "\n",
    "    # Validation loop\n",
    "    model.eval()  # Set model to evaluation mode\n",
    "    with torch.no_grad():\n",
    "        for val_inputs, val_heatmaps, _ in val_loader:\n",
    "            val_inputs, val_heatmaps = val_inputs.float().to(device), val_heatmaps.float().to(device)\n",
    "\n",
    "            val_outputs = model(val_inputs)\n",
    "\n",
    "            val_mask = (val_heatmaps.sum(dim=(2, 3)) > 0).float().unsqueeze(-1).unsqueeze(-1)            \n",
    "            visible_val_outputs = val_outputs * val_mask\n",
    "            visible_val_heatmaps = val_heatmaps * val_mask\n",
    "\n",
    "            # Compute validation loss\n",
    "            val_loss += criterion(visible_val_outputs, visible_val_heatmaps).item() * val_inputs.size(0)\n",
    "    \n",
    "    # Validation loss   \n",
    "    epoch_val_loss = val_loss / len(val_loader.dataset)    \n",
    "    val_losses.append(epoch_val_loss)\n",
    "    print(f\"Epoch {epoch + 1}/{num_epochs} - Validation Loss: {epoch_val_loss:.8f}\")\n",
    "    \n",
    "    # Epoch end time\n",
    "    epoch_end_time = time.time()\n",
    "    epoch_duration = epoch_end_time - epoch_start_time\n",
    "    print(f\"Epoch {epoch + 1} took {epoch_duration:.2f} seconds.\")\n",
    "\n",
    "    # Record the learning rate after each epoch\n",
    "    current_lr = optimizer.param_groups[0]['lr']  # Assuming a single parameter group\n",
    "    learning_rate_log.append(current_lr)\n",
    "    print(f\"Epoch {epoch+1}, Learning Rate: {current_lr}\")\n",
    "    \n",
    "    # Check for Early Stopping and Save Best Model Checkpoint\n",
    "    if epoch_val_loss < best_val_loss:\n",
    "        best_val_loss = epoch_val_loss\n",
    "        patience_counter = 0\n",
    "        save_path = f\"best_model.pth\"\n",
    "        torch.save({\n",
    "            'epoch': epoch,\n",
    "            'model_state_dict': model.state_dict(),\n",
    "            'optimizer_state_dict': optimizer.state_dict(),\n",
    "            'scheduler_state_dict': scheduler.state_dict(),\n",
    "            'train_loss': epoch_train_loss,\n",
    "            'val_loss': epoch_val_loss\n",
    "        }, save_path)  # Save the best model checkpoint\n",
    "        print(\"Model improved. Saving the best model.\")\n",
    "    else:\n",
    "        patience_counter += 1\n",
    "        print(f\"No improvement in validation loss. Patience: {patience_counter}/{patience}\")\n",
    "\n",
    "    if patience_counter >= patience and epoch >= min_epochs:\n",
    "        print(f\"Min number epochs reached, with no improvement in validation loss. Stopping training.\")\n",
    "        break\n",
    "    \n",
    "    # If gets to max number of epochs\n",
    "    if epoch == max_epochs:\n",
    "        print(f\"Reached maximum number of epochs ({max_epochs}). Stopping training.\")\n",
    "        break\n",
    "    \n",
    "    # Step the scheduler\n",
    "    scheduler.step(epoch_val_loss)\n",
    "\n",
    "# Save the learning rate log to a file (optional)\n",
    "with open(\"learning_rate_log.txt\", \"w\") as f:\n",
    "    for lr in learning_rate_log:\n",
    "        f.write(f\"{lr}\\n\")\n",
    "\n",
    "with open(\"train_losses.txt\", \"w\") as f:\n",
    "    for value in train_losses:\n",
    "        f.write(f\"{value}\\n\")\n",
    "\n",
    "with open(\"val_losses.txt\", \"w\") as f:\n",
    "    for value in val_losses:\n",
    "        f.write(f\"{value}\\n\")\n",
    "\n",
    "print(f\"End training loop after {epoch + 1} epochs.\")\n"
   ]
  }
 ],
 "metadata": {
  "kaggle": {
   "accelerator": "gpu",
   "dataSources": [
    {
     "datasetId": 857191,
     "sourceId": 1462296,
     "sourceType": "datasetVersion"
    },
    {
     "datasetId": 6266247,
     "sourceId": 10150363,
     "sourceType": "datasetVersion"
    },
    {
     "modelId": 187666,
     "modelInstanceId": 165346,
     "sourceId": 193879,
     "sourceType": "modelInstanceVersion"
    }
   ],
   "dockerImageVersionId": 30805,
   "isGpuEnabled": true,
   "isInternetEnabled": true,
   "language": "python",
   "sourceType": "notebook"
  },
  "kernelspec": {
   "display_name": "Python 3",
   "language": "python",
   "name": "python3"
  },
  "language_info": {
   "codemirror_mode": {
    "name": "ipython",
    "version": 3
   },
   "file_extension": ".py",
   "mimetype": "text/x-python",
   "name": "python",
   "nbconvert_exporter": "python",
   "pygments_lexer": "ipython3",
   "version": "3.10.14"
  },
  "papermill": {
   "default_parameters": {},
   "duration": 7989.997307,
   "end_time": "2024-12-14T06:10:45.359322",
   "environment_variables": {},
   "exception": null,
   "input_path": "__notebook__.ipynb",
   "output_path": "__notebook__.ipynb",
   "parameters": {},
   "start_time": "2024-12-14T03:57:35.362015",
   "version": "2.6.0"
  }
 },
 "nbformat": 4,
 "nbformat_minor": 5
}
